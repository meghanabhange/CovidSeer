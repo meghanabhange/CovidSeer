{
  "nbformat": 4,
  "nbformat_minor": 0,
  "metadata": {
    "colab": {
      "name": "DistrictAnalysisAssam.ipynb",
      "provenance": []
    },
    "kernelspec": {
      "display_name": "Python 3",
      "language": "python",
      "name": "python3"
    },
    "language_info": {
      "codemirror_mode": {
        "name": "ipython",
        "version": 3
      },
      "file_extension": ".py",
      "mimetype": "text/x-python",
      "name": "python",
      "nbconvert_exporter": "python",
      "pygments_lexer": "ipython3",
      "version": "3.7.5"
    }
  },
  "cells": [
    {
      "cell_type": "code",
      "metadata": {
        "colab_type": "code",
        "id": "Pi1eQpFJbo4U",
        "colab": {}
      },
      "source": [
        "# hide\n",
        "# !pip install seirsplus\n",
        "# !pip install geopandas\n",
        "# !pip install geopatra\n",
        "# !pip install -U plotly\n",
        "\n",
        "import warnings\n",
        "warnings.filterwarnings('ignore')\n",
        "\n",
        "import contextlib\n",
        "import io\n",
        "import json\n",
        "import random\n",
        "import sys\n",
        "from pathlib import Path\n",
        "from typing import List, Union\n",
        "\n",
        "import folium\n",
        "import geopandas as gpd\n",
        "import geopatra\n",
        "import networkx\n",
        "import pandas as pd\n",
        "from branca.colormap import linear\n",
        "from IPython.display import display\n",
        "from IPython.utils import io\n",
        "from ipywidgets import (HTML, FloatLogSlider, FloatSlider, GridBox, HBox,\n",
        "                        IntSlider, Label, Layout, Output, SelectionSlider,\n",
        "                        VBox, interactive)\n",
        "from seirsplus.models import *"
      ],
      "execution_count": 0,
      "outputs": []
    },
    {
      "cell_type": "code",
      "metadata": {
        "colab_type": "code",
        "id": "r0igYZLjbo4a",
        "colab": {}
      },
      "source": [
        "#hide\n",
        "assam_travel_history = Path(\"AssamTravelHistory.xlsx\").resolve()\n",
        "xl = pd.ExcelFile(assam_travel_history)"
      ],
      "execution_count": 0,
      "outputs": []
    },
    {
      "cell_type": "code",
      "metadata": {
        "colab_type": "code",
        "id": "eFc9efsjbo4f",
        "colab": {}
      },
      "source": [
        "# hide\n",
        "def read_assam_excel_to_df(filename: str) -> pd.DataFrame:\n",
        "    xl = pd.ExcelFile(filename)\n",
        "    df_list = []\n",
        "    for sheet_name in xl.sheet_names:\n",
        "        district_df = xl.parse(sheet_name)\n",
        "        district_df[\"district\"] = sheet_name\n",
        "        district_df.drop(columns=[\"S.No.\"], inplace=True)\n",
        "        df_list.append(district_df)\n",
        "    return pd.concat(df_list, sort=False)\n",
        "\n",
        "\n",
        "df = read_assam_excel_to_df(assam_travel_history)"
      ],
      "execution_count": 0,
      "outputs": []
    },
    {
      "cell_type": "code",
      "metadata": {
        "colab_type": "code",
        "id": "NhQyhdSGbo4i",
        "colab": {}
      },
      "source": [
        "# hide\n",
        "df[\"DateOfArrival\"] = pd.to_datetime(df[\"Date of arrival\"])\n",
        "df[\"DateOfReturn\"] = pd.to_datetime(df[\"Date of Receipt\"])\n",
        "df.drop(columns=[\"Date of arrival\", \"Date of Receipt\"], inplace=True)"
      ],
      "execution_count": 0,
      "outputs": []
    },
    {
      "cell_type": "code",
      "metadata": {
        "colab_type": "code",
        "id": "HAydw6rvbo4l",
        "colab": {}
      },
      "source": [
        "# hide\n",
        "df_copy = df\n",
        "df_copy[\"Inflow\"] = 1\n",
        "assam_traveller_count_df = df_copy.groupby(\"district\").agg({\"Inflow\": \"sum\"})\n",
        "assam_traveller_count_df.reset_index(inplace=True)"
      ],
      "execution_count": 0,
      "outputs": []
    },
    {
      "cell_type": "code",
      "metadata": {
        "colab_type": "code",
        "id": "3kyXYiVSbo4p",
        "colab": {}
      },
      "source": [
        "# hide\n",
        "def clean_district_names(dname: str):\n",
        "    input_to_output_mapping = {\n",
        "        \"Cacher\": \"Cachar\",\n",
        "        \"Kamrup_M\": \"Kamrup Metropolitan\",\n",
        "        \"Kamrup_R\": \"Kamrup\",\n",
        "        \"KarbiAnlong\": \"Karbi Anglong\",\n",
        "        \"Baksha\": \"Baksa\",\n",
        "    }\n",
        "    return input_to_output_mapping.get(dname, dname)"
      ],
      "execution_count": 0,
      "outputs": []
    },
    {
      "cell_type": "code",
      "metadata": {
        "colab_type": "code",
        "id": "emaBa1iwbo4t",
        "colab": {}
      },
      "source": [
        "# hide\n",
        "assam_traveller_count_df[\"district\"] = assam_traveller_count_df.district.apply(\n",
        "    clean_district_names\n",
        ")"
      ],
      "execution_count": 0,
      "outputs": []
    },
    {
      "cell_type": "code",
      "metadata": {
        "colab_type": "code",
        "id": "eoMeoa7dbo4x",
        "scrolled": false,
        "colab": {}
      },
      "source": [
        "# hide\n",
        "assam_pop_web_raw = pd.read_html(\n",
        "    \"https://www.census2011.co.in/census/state/districtlist/assam.html\"\n",
        ")\n",
        "assam_pop_web_raw = assam_pop_web_raw[0][[\"District\", \"Population\"]]\n",
        "assam_pop_df = assam_pop_web_raw[\n",
        "    ~(assam_pop_web_raw[\"District\"].apply(lambda x: len(x)) > 21)\n",
        "]"
      ],
      "execution_count": 0,
      "outputs": []
    },
    {
      "cell_type": "code",
      "metadata": {
        "colab_type": "code",
        "id": "UlFjC8uCbo41",
        "colab": {}
      },
      "source": [
        "# hide\n",
        "assam_pop_df_rename = assam_pop_df.rename(columns={\"District\": \"district\"})"
      ],
      "execution_count": 0,
      "outputs": []
    },
    {
      "cell_type": "code",
      "metadata": {
        "colab_type": "code",
        "id": "4DYJTLZSbo44",
        "colab": {}
      },
      "source": [
        "# hide\n",
        "assam_df = pd.merge(\n",
        "    assam_pop_df_rename, assam_traveller_count_df, on=\"district\", how=\"left\"\n",
        ")\n",
        "assam_df.to_csv(\"AssamDistrictInfo.csv\", index=False)"
      ],
      "execution_count": 0,
      "outputs": []
    }
  ]
}