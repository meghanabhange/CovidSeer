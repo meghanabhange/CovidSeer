{
  "nbformat": 4,
  "nbformat_minor": 0,
  "metadata": {
    "colab": {
      "name": "DistrictAnalysisForKA_20200327.ipynb",
      "provenance": []
    },
    "kernelspec": {
      "display_name": "Python 3",
      "language": "python",
      "name": "python3"
    },
    "language_info": {
      "codemirror_mode": {
        "name": "ipython",
        "version": 3
      },
      "file_extension": ".py",
      "mimetype": "text/x-python",
      "name": "python",
      "nbconvert_exporter": "python",
      "pygments_lexer": "ipython3",
      "version": "3.7.3"
    }
  },
  "cells": [
    {
      "cell_type": "markdown",
      "metadata": {
        "colab_type": "text",
        "id": "ZiUWPUs_caNL"
      },
      "source": [
        "# KA SEIRSPlus\n",
        "> backtesting on KA data\n",
        "\n",
        "- toc: true \n",
        "- badges: false\n",
        "- comments: true\n",
        "- metadata_key1: metadata_value1\n",
        "- metadata_key2: metadata_value2"
      ]
    },
    {
      "cell_type": "code",
      "metadata": {
        "colab_type": "code",
        "id": "-6PZVHT0bue9",
        "outputId": "7ebda69a-da12-4e52-f391-7a25c19e9462",
        "colab": {
          "base_uri": "https://localhost:8080/",
          "height": 85
        }
      },
      "source": [
        "# hide\n",
        "# !pip install seirsplus\n",
        "# !pip install -U plotly\n",
        "# !pip install fuzzywuzzy\n",
        "import contextlib\n",
        "import io\n",
        "import json\n",
        "import random\n",
        "import sys\n",
        "import warnings\n",
        "from pathlib import Path\n",
        "from typing import List, Union\n",
        "from urllib.request import urlopen\n",
        "\n",
        "import pandas as pd\n",
        "import plotly.graph_objects as go\n",
        "from branca.colormap import linear\n",
        "from fuzzywuzzy import process\n",
        "from IPython.display import Latex, Markdown, display\n",
        "from IPython.utils import io\n",
        "from ipywidgets import (\n",
        "    HTML,\n",
        "    FloatLogSlider,\n",
        "    FloatSlider,\n",
        "    GridBox,\n",
        "    HBox,\n",
        "    IntSlider,\n",
        "    Label,\n",
        "    Layout,\n",
        "    Output,\n",
        "    SelectionSlider,\n",
        "    VBox,\n",
        "    interactive,\n",
        ")\n",
        "from seirsplus.models import *\n",
        "from sklearn.metrics import mean_absolute_error, mean_squared_error\n",
        "from sklearn.model_selection import ParameterGrid\n",
        "from sklearn.model_selection import ParameterSampler\n",
        "from tqdm import tqdm\n",
        "\n",
        "warnings.filterwarnings(\"ignore\")"
      ],
      "execution_count": 1,
      "outputs": [
        {
          "output_type": "stream",
          "text": [
            "/usr/local/lib/python3.6/dist-packages/fuzzywuzzy/fuzz.py:11: UserWarning:\n",
            "\n",
            "Using slow pure-python SequenceMatcher. Install python-Levenshtein to remove this warning\n",
            "\n"
          ],
          "name": "stderr"
        }
      ]
    },
    {
      "cell_type": "code",
      "metadata": {
        "colab_type": "code",
        "id": "Um_nD1IhbeST",
        "colab": {}
      },
      "source": [
        "# hide\n",
        "ka_df = pd.read_csv(\"KarnatakaDistrictInfo.csv\")\n",
        "ka_df[\"Population\"] = pd.to_numeric(\n",
        "    ka_df[\"Population\"].apply(lambda x: x.replace(\",\", \"\"))\n",
        ")"
      ],
      "execution_count": 0,
      "outputs": []
    },
    {
      "cell_type": "code",
      "metadata": {
        "colab_type": "code",
        "id": "VzjqINjT8CNJ",
        "colab": {}
      },
      "source": [
        "# hide\n",
        "with urlopen(\n",
        "    \"https://raw.githubusercontent.com/covid19india/api/master/state_district_wise.json\"\n",
        ") as response:\n",
        "    district = json.load(response)"
      ],
      "execution_count": 0,
      "outputs": []
    },
    {
      "cell_type": "code",
      "metadata": {
        "colab_type": "code",
        "id": "MAPRMX3p8GPN",
        "outputId": "368987d0-ea39-41bd-d299-dcc0abcfac6d",
        "colab": {
          "base_uri": "https://localhost:8080/",
          "height": 340
        }
      },
      "source": [
        "district_maps = {}\n",
        "for dis in list(district[\"Karnataka\"][\"districtData\"].keys()):\n",
        "    sel = process.extractOne(dis, ka_df[\"District\"])\n",
        "    if dis == \"Kalaburagi\":\n",
        "        district_maps[\"Gulbarga\"] = dis\n",
        "    else:\n",
        "        district_maps[sel[0]] = dis\n",
        "\n",
        "district_maps"
      ],
      "execution_count": 4,
      "outputs": [
        {
          "output_type": "execute_result",
          "data": {
            "text/plain": [
              "{'Bagalkot': 'Bagalkote',\n",
              " 'Bangalore': 'Bengaluru',\n",
              " 'Bangalore Rural': 'Bengaluru Rural',\n",
              " 'Belgaum': 'Belagavi',\n",
              " 'Bellary': 'Ballari',\n",
              " 'Bidar': 'Bidar',\n",
              " 'Chikkaballapura': 'Chikkaballapura',\n",
              " 'Chitradurga': 'Chitradurga',\n",
              " 'Dakshina Kannada': 'Dakshina Kannada',\n",
              " 'Davanagere': 'Davanagere',\n",
              " 'Dharwad': 'Dharwad',\n",
              " 'Gadag': 'Gadag',\n",
              " 'Gulbarga': 'Kalaburagi',\n",
              " 'Kodagu': 'Kodagu',\n",
              " 'Mandya': 'Mandya',\n",
              " 'Mysore': 'Mysuru',\n",
              " 'Tumkur': 'Tumakuru',\n",
              " 'Udupi': 'Udupi',\n",
              " 'Uttara Kannada': 'Uttara Kannada'}"
            ]
          },
          "metadata": {
            "tags": []
          },
          "execution_count": 4
        }
      ]
    },
    {
      "cell_type": "code",
      "metadata": {
        "colab_type": "code",
        "id": "WC6GXaAW-ML2",
        "colab": {}
      },
      "source": [
        "ka_df[\"CaseCounts\"] = ka_df[\"District\"].apply(\n",
        "    lambda x: district[\"Karnataka\"][\"districtData\"][district_maps[x]][\"confirmed\"]\n",
        "    if x in district_maps.keys()\n",
        "    else 0\n",
        ")"
      ],
      "execution_count": 0,
      "outputs": []
    },
    {
      "cell_type": "code",
      "metadata": {
        "colab_type": "code",
        "id": "3v9wD_xwHKFI",
        "colab": {}
      },
      "source": [
        "# hide\n",
        "def get_infections(\n",
        "    initI: int = 100,\n",
        "    initN: int = 10 ** 5,\n",
        "    days_N: int = 21,\n",
        "    beta: float = 2.4,\n",
        "    sigma=1 / 5.2,\n",
        "    gamma=1 / 12.39,\n",
        "    beta_D=0.000,\n",
        "    mu_D=0.02,\n",
        "    theta_E=0.0002,\n",
        "    theta_I=0.002,\n",
        "    psi_E=0.2,\n",
        "    psi_I=1.0,\n",
        ") -> List[int]:\n",
        "    model = SEIRSModel(\n",
        "        beta=beta,\n",
        "        sigma=sigma,\n",
        "        gamma=gamma,\n",
        "        initN=initN,\n",
        "        initI=initI,\n",
        "        beta_D=beta_D,\n",
        "        mu_D=mu_D,\n",
        "        theta_E=theta_E,\n",
        "        theta_I=theta_I,\n",
        "        psi_E=psi_E,\n",
        "        psi_I=psi_I,\n",
        "    )\n",
        "    with io.capture_output() as captured:\n",
        "        model.run(T=days_N)\n",
        "    S = model.numS  # time series of S counts\n",
        "    E = model.numE  # time series of E counts\n",
        "    I = model.numI  # time series of I counts\n",
        "    D_E = model.numD_E  # time series of D_E counts\n",
        "    D_I = model.numD_I  # time series of D_I counts\n",
        "    R = model.numR  # time series of R counts\n",
        "    F = model.numF  # time series of F counts\n",
        "    t = model.tseries  # time values corresponding to the above time series\n",
        "    return {\"detected_exposed\": D_E, \"detected_infected\": D_I, \"model\": model, \"t\": t}"
      ],
      "execution_count": 0,
      "outputs": []
    },
    {
      "cell_type": "code",
      "metadata": {
        "colab_type": "code",
        "id": "Zvosg77ZHViS",
        "colab": {}
      },
      "source": [
        "# hide\n",
        "def get_risk_estimates(\n",
        "    state_estimated_df: pd.DataFrame,\n",
        "    beta: float,\n",
        "    sigma=1 / 5.2,\n",
        "    gamma=1 / 12.39,\n",
        "    beta_D=0.000,\n",
        "    mu_D=0.02,\n",
        "    theta_E=0.0002,\n",
        "    theta_I=0.002,\n",
        "    psi_E=0.2,\n",
        "    psi_I=1.0,\n",
        ") -> Union[List, List]:\n",
        "    days_N = 21\n",
        "    atrisk_day14, atrisk_day21 = [], []\n",
        "    for row in state_estimated_df[[\"initI\", \"initN\", \"District\"]].iterrows():\n",
        "        initI, initN, district = row[1][0], int(row[1][1]), row[1][2]\n",
        "        #     print(type(initI), type(initN))\n",
        "        infection_results = get_infections(\n",
        "            initI=initI,\n",
        "            initN=initN,\n",
        "            days_N=days_N,\n",
        "            beta=beta,\n",
        "            sigma=sigma,\n",
        "            gamma=gamma,\n",
        "            beta_D=beta_D,\n",
        "            mu_D=mu_D,\n",
        "            theta_E=theta_E,\n",
        "            theta_I=theta_I,\n",
        "            psi_E=psi_E,\n",
        "            psi_I=psi_I,\n",
        "        )\n",
        "        detected_infected = infection_results[\"detected_infected\"]\n",
        "        day14 = int(14 * len(detected_infected) / days_N)\n",
        "        case_count_day14 = int(infection_results[\"detected_infected\"][day14])\n",
        "        case_count_day21 = int(infection_results[\"detected_infected\"][-1])\n",
        "        atrisk_day14.append(case_count_day14)\n",
        "        atrisk_day21.append(case_count_day21)\n",
        "    return atrisk_day14, atrisk_day21, infection_results"
      ],
      "execution_count": 0,
      "outputs": []
    },
    {
      "cell_type": "code",
      "metadata": {
        "colab_type": "code",
        "id": "wCXuzXysHXQW",
        "colab": {}
      },
      "source": [
        "# hide_input\n",
        "# @title Assumptions\n",
        "percent_travellers_infected = 0.039  # @param {type:\"slider\", min:0, max:1e-1, step:0.001}\n",
        "unknown_to_known_travelers = 23  # @param {type:\"slider\", min:5, max:50, step:1}\n",
        "beta = 0.6  # @param {type:\"slider\", min:0.5, max:5.0, step:0.1}\n",
        "\n",
        "# display(Markdown(f\"#Assumptions \\npercent_travellers_infected :{percent_travellers_infected}\\nunknown_to_known_travelers={unknown_to_known_travelers}\\nbeta:{beta} \"))"
      ],
      "execution_count": 0,
      "outputs": []
    },
    {
      "cell_type": "code",
      "metadata": {
        "colab_type": "code",
        "id": "tg2GoN7MHZZx",
        "colab": {}
      },
      "source": [
        "# hide\n",
        "def estimate(\n",
        "    percent_travellers_infected: float,\n",
        "    state_df: pd.DataFrame,\n",
        "    beta: float,\n",
        "    bus_to_passenger=0.01, \n",
        "    public_bus_to_private_bus=0.01,\n",
        "    percent_qtn_infected=0.01,\n",
        "    sigma=1 / 5.2,\n",
        "    gamma=1 / 12.39,\n",
        "    beta_D=0.000,\n",
        "    mu_D=0.02,\n",
        "    theta_E=0.0002,\n",
        "    theta_I=0.002,\n",
        "    psi_E=0.2,\n",
        "    psi_I=1.0,\n",
        "):\n",
        "\n",
        "    state_estimated_df = state_df.copy()\n",
        "    passengers_infected = public_bus_to_private_bus * bus_to_passenger * percent_travellers_infected\n",
        "    state_estimated_df[\"initI\"] = (\n",
        "        passengers_infected + percent_qtn_infected * state_df[\"Inflow\"]\n",
        "    ).astype(int)\n",
        "    state_estimated_df[\"initN\"] = state_estimated_df[\"Population\"].astype(int)\n",
        "\n",
        "    (\n",
        "        state_estimated_df[f\"day14\"],\n",
        "        state_estimated_df[f\"day21\"],\n",
        "        infection_results,\n",
        "    ) = get_risk_estimates(\n",
        "        state_estimated_df,\n",
        "        beta=beta,\n",
        "        sigma=sigma,\n",
        "        gamma=gamma,\n",
        "        beta_D=beta_D,\n",
        "        mu_D=mu_D,\n",
        "        theta_E=theta_E,\n",
        "        theta_I=theta_I,\n",
        "        psi_E=psi_E,\n",
        "        psi_I=psi_I,\n",
        "    )\n",
        "    return state_estimated_df"
      ],
      "execution_count": 0,
      "outputs": []
    },
    {
      "cell_type": "code",
      "metadata": {
        "id": "yPIernyrst-q",
        "colab_type": "code",
        "colab": {}
      },
      "source": [
        "# hide\n",
        "grid = {\n",
        "    \n",
        "    \"beta_D\": [i / 1000 for i in range(1, 6)],\n",
        "    \"percent_qtn_infected\":[i / 1000 for i in range(1, 100, 10)],\n",
        "    \"public_bus_to_private_bus\":[i for i in range(30, 50)],\n",
        "    \"bus_to_passenger\":[i for i in range(50, 80, 5)],\n",
        "    \"percent_travellers_infected\":[i / 1000 for i in range(1, 100, 10)],\n",
        "    \"mu_D\": [i / 100 for i in range(1, 6)],\n",
        "    \"theta_E\": [i / 10000 for i in range(1, 6)],\n",
        "    \"beta\": [i / 10 for i in range(5, 9)],\n",
        "    \"theta_I\": [i / 1000 for i in range(1, 6)],\n",
        "    \"psi_E\": [i / 10 for i in range(5)],\n",
        "    \"psi_I\": [i / 10 for i in range(5)],\n",
        "    \"sigma\": [1 / (i / 10) for i in range(50, 140, 10)],\n",
        "    \"gamma\": [1 / (i / 10) for i in range(100, 200, 10)],\n",
        "}"
      ],
      "execution_count": 0,
      "outputs": []
    },
    {
      "cell_type": "code",
      "metadata": {
        "colab_type": "code",
        "id": "LIv475loGT46",
        "outputId": "62991d6c-7367-4f76-85e6-99279d0b852f",
        "colab": {
          "base_uri": "https://localhost:8080/",
          "height": 459
        }
      },
      "source": [
        "# hide\n",
        "list(ParameterSampler(grid,  n_iter=2))"
      ],
      "execution_count": 11,
      "outputs": [
        {
          "output_type": "execute_result",
          "data": {
            "text/plain": [
              "[{'beta': 0.5,\n",
              "  'beta_D': 0.001,\n",
              "  'bus_to_passenger': 70,\n",
              "  'gamma': 0.07142857142857142,\n",
              "  'mu_D': 0.01,\n",
              "  'percent_qtn_infected': 0.071,\n",
              "  'percent_travellers_infected': 0.061,\n",
              "  'psi_E': 0.0,\n",
              "  'psi_I': 0.3,\n",
              "  'public_bus_to_private_bus': 30,\n",
              "  'sigma': 0.08333333333333333,\n",
              "  'theta_E': 0.0001,\n",
              "  'theta_I': 0.003},\n",
              " {'beta': 0.6,\n",
              "  'beta_D': 0.002,\n",
              "  'bus_to_passenger': 55,\n",
              "  'gamma': 0.05555555555555555,\n",
              "  'mu_D': 0.03,\n",
              "  'percent_qtn_infected': 0.001,\n",
              "  'percent_travellers_infected': 0.031,\n",
              "  'psi_E': 0.4,\n",
              "  'psi_I': 0.2,\n",
              "  'public_bus_to_private_bus': 46,\n",
              "  'sigma': 0.14285714285714285,\n",
              "  'theta_E': 0.0001,\n",
              "  'theta_I': 0.005}]"
            ]
          },
          "metadata": {
            "tags": []
          },
          "execution_count": 11
        }
      ]
    },
    {
      "cell_type": "code",
      "metadata": {
        "id": "lkprCzT3XBto",
        "colab_type": "code",
        "colab": {
          "base_uri": "https://localhost:8080/",
          "height": 34
        },
        "outputId": "baedb6c3-fbc3-4cb5-aa86-a86da33f0765"
      },
      "source": [
        "df_without_bangalore = ka_df[ka_df.Inflow != 0][ka_df.District !=\"Bangalore\"][ka_df.District !=\"Bangalore Rural\"]\n",
        "df_more_than_30 = ka_df[ka_df.Inflow != 0][ka_df.CaseCounts >=30]\n",
        "df_10_to_30 = ka_df[ka_df.Inflow != 0][ka_df.CaseCounts >=10][ka_df.CaseCounts <30]\n",
        "df_less_than_10 = ka_df[ka_df.Inflow != 0][ka_df.CaseCounts <10]\n",
        "len(df_without_bangalore) , len(df_more_than_30) , len(df_10_to_30) , len(df_less_than_10)"
      ],
      "execution_count": 12,
      "outputs": [
        {
          "output_type": "execute_result",
          "data": {
            "text/plain": [
              "(25, 2, 2, 23)"
            ]
          },
          "metadata": {
            "tags": []
          },
          "execution_count": 12
        }
      ]
    },
    {
      "cell_type": "code",
      "metadata": {
        "colab_type": "code",
        "id": "P3adyS7VFJXo",
        "colab": {}
      },
      "source": [
        "# hide\n",
        "def megs_shitty_grid_search(grid, df, config):\n",
        "    prev = 1000000\n",
        "    for combination in tqdm(list(ParameterSampler(grid, n_iter=400))):\n",
        "        ka_estimated_df = estimate(\n",
        "                percent_travellers_infected= combination[\"percent_travellers_infected\"],\n",
        "                state_df= df,\n",
        "                beta = combination[\"beta\"],\n",
        "                bus_to_passenger=combination[\"bus_to_passenger\"], \n",
        "                public_bus_to_private_bus=combination[\"public_bus_to_private_bus\"],\n",
        "                percent_qtn_infected=combination[\"percent_qtn_infected\"],\n",
        "                mu_D=combination[\"mu_D\"], \n",
        "                theta_E=combination[\"theta_E\"],\n",
        "                theta_I=combination[\"theta_I\"],\n",
        "                psi_E=combination[\"psi_E\"],\n",
        "                psi_I=combination[\"psi_I\"],\n",
        "                sigma=combination[\"sigma\"],\n",
        "                gamma=combination[\"gamma\"]\n",
        "        )\n",
        "        error = mean_absolute_error(\n",
        "            ka_estimated_df[\"day14\"], ka_estimated_df[\"CaseCounts\"]\n",
        "        )\n",
        "        if error < prev:\n",
        "            prev = error\n",
        "            config = combination\n",
        "            print(f\"error : {error}\")\n",
        "    return config"
      ],
      "execution_count": 0,
      "outputs": []
    },
    {
      "cell_type": "code",
      "metadata": {
        "colab_type": "code",
        "id": "v_rpkrcrIcfw",
        "outputId": "441f2ad2-104e-4a5f-a3b9-e04a7eacd39d",
        "colab": {
          "base_uri": "https://localhost:8080/",
          "height": 275
        }
      },
      "source": [
        "print(f\"Predictions for df_more_than_30\")\n",
        "config_for_more_than_30 = {}\n",
        "config_for_more_than_30 = megs_shitty_grid_search(grid, df_more_than_30, config_for_more_than_30)\n",
        "print(config_for_more_than_30) \n",
        "ka_estimated_df_more_than_30 = estimate(\n",
        "                percent_travellers_infected= config_for_more_than_30[\"percent_travellers_infected\"],\n",
        "                state_df= ka_df,\n",
        "                beta = config_for_more_than_30[\"beta\"],\n",
        "                bus_to_passenger=config_for_more_than_30[\"bus_to_passenger\"], \n",
        "                public_bus_to_private_bus=config_for_more_than_30[\"public_bus_to_private_bus\"],\n",
        "                percent_qtn_infected=config_for_more_than_30[\"percent_qtn_infected\"],\n",
        "                mu_D=config_for_more_than_30[\"mu_D\"], \n",
        "                theta_E=config_for_more_than_30[\"theta_E\"],\n",
        "                theta_I=config_for_more_than_30[\"theta_I\"],\n",
        "                psi_E=config_for_more_than_30[\"psi_E\"],\n",
        "                psi_I=config_for_more_than_30[\"psi_I\"],\n",
        "                sigma=config_for_more_than_30[\"sigma\"],\n",
        "                gamma=config_for_more_than_30[\"gamma\"]\n",
        "        )"
      ],
      "execution_count": 14,
      "outputs": [
        {
          "output_type": "stream",
          "text": [
            "  2%|▏         | 8/400 [00:00<00:05, 72.48it/s]"
          ],
          "name": "stderr"
        },
        {
          "output_type": "stream",
          "text": [
            "Predictions for df_more_than_30\n",
            "error : 46.5\n",
            "error : 46.0\n",
            "error : 40.0\n",
            "error : 38.5\n",
            "error : 33.0\n"
          ],
          "name": "stdout"
        },
        {
          "output_type": "stream",
          "text": [
            "  8%|▊         | 30/400 [00:00<00:05, 68.90it/s]"
          ],
          "name": "stderr"
        },
        {
          "output_type": "stream",
          "text": [
            "error : 32.0\n"
          ],
          "name": "stdout"
        },
        {
          "output_type": "stream",
          "text": [
            " 12%|█▏        | 46/400 [00:00<00:04, 71.37it/s]"
          ],
          "name": "stderr"
        },
        {
          "output_type": "stream",
          "text": [
            "error : 29.5\n",
            "error : 27.5\n",
            "error : 20.0\n"
          ],
          "name": "stdout"
        },
        {
          "output_type": "stream",
          "text": [
            " 41%|████▏     | 165/400 [00:02<00:03, 72.95it/s]"
          ],
          "name": "stderr"
        },
        {
          "output_type": "stream",
          "text": [
            "error : 17.5\n"
          ],
          "name": "stdout"
        },
        {
          "output_type": "stream",
          "text": [
            "100%|██████████| 400/400 [00:05<00:00, 73.59it/s]\n"
          ],
          "name": "stderr"
        },
        {
          "output_type": "stream",
          "text": [
            "error : 10.5\n",
            "{'theta_I': 0.005, 'theta_E': 0.0002, 'sigma': 0.1111111111111111, 'public_bus_to_private_bus': 36, 'psi_I': 0.4, 'psi_E': 0.0, 'percent_travellers_infected': 0.091, 'percent_qtn_infected': 0.091, 'mu_D': 0.01, 'gamma': 0.06666666666666667, 'bus_to_passenger': 65, 'beta_D': 0.005, 'beta': 0.8}\n"
          ],
          "name": "stdout"
        }
      ]
    },
    {
      "cell_type": "code",
      "metadata": {
        "id": "Nf3-AS9ZvI5V",
        "colab_type": "code",
        "colab": {
          "base_uri": "https://localhost:8080/",
          "height": 1000
        },
        "outputId": "7dae85b1-5dd3-4b6d-f675-11bb5e77914f"
      },
      "source": [
        "ka_estimated_df_more_than_30[[\"District\", \"CaseCounts\", \"day14\"]]"
      ],
      "execution_count": 15,
      "outputs": [
        {
          "output_type": "execute_result",
          "data": {
            "text/html": [
              "<div>\n",
              "<style scoped>\n",
              "    .dataframe tbody tr th:only-of-type {\n",
              "        vertical-align: middle;\n",
              "    }\n",
              "\n",
              "    .dataframe tbody tr th {\n",
              "        vertical-align: top;\n",
              "    }\n",
              "\n",
              "    .dataframe thead th {\n",
              "        text-align: right;\n",
              "    }\n",
              "</style>\n",
              "<table border=\"1\" class=\"dataframe\">\n",
              "  <thead>\n",
              "    <tr style=\"text-align: right;\">\n",
              "      <th></th>\n",
              "      <th>District</th>\n",
              "      <th>CaseCounts</th>\n",
              "      <th>day14</th>\n",
              "    </tr>\n",
              "  </thead>\n",
              "  <tbody>\n",
              "    <tr>\n",
              "      <th>0</th>\n",
              "      <td>Bagalkot</td>\n",
              "      <td>5</td>\n",
              "      <td>14</td>\n",
              "    </tr>\n",
              "    <tr>\n",
              "      <th>1</th>\n",
              "      <td>Bangalore</td>\n",
              "      <td>58</td>\n",
              "      <td>59</td>\n",
              "    </tr>\n",
              "    <tr>\n",
              "      <th>2</th>\n",
              "      <td>Belgaum</td>\n",
              "      <td>7</td>\n",
              "      <td>14</td>\n",
              "    </tr>\n",
              "    <tr>\n",
              "      <th>3</th>\n",
              "      <td>Bellary</td>\n",
              "      <td>6</td>\n",
              "      <td>14</td>\n",
              "    </tr>\n",
              "    <tr>\n",
              "      <th>4</th>\n",
              "      <td>Bidar</td>\n",
              "      <td>10</td>\n",
              "      <td>14</td>\n",
              "    </tr>\n",
              "    <tr>\n",
              "      <th>5</th>\n",
              "      <td>Bijapur</td>\n",
              "      <td>0</td>\n",
              "      <td>14</td>\n",
              "    </tr>\n",
              "    <tr>\n",
              "      <th>6</th>\n",
              "      <td>Chamarajanagar</td>\n",
              "      <td>0</td>\n",
              "      <td>14</td>\n",
              "    </tr>\n",
              "    <tr>\n",
              "      <th>7</th>\n",
              "      <td>Chikkaballapura</td>\n",
              "      <td>10</td>\n",
              "      <td>14</td>\n",
              "    </tr>\n",
              "    <tr>\n",
              "      <th>8</th>\n",
              "      <td>Chikmagalur</td>\n",
              "      <td>0</td>\n",
              "      <td>14</td>\n",
              "    </tr>\n",
              "    <tr>\n",
              "      <th>9</th>\n",
              "      <td>Chitradurga</td>\n",
              "      <td>1</td>\n",
              "      <td>14</td>\n",
              "    </tr>\n",
              "    <tr>\n",
              "      <th>10</th>\n",
              "      <td>Dakshina Kannada</td>\n",
              "      <td>10</td>\n",
              "      <td>19</td>\n",
              "    </tr>\n",
              "    <tr>\n",
              "      <th>11</th>\n",
              "      <td>Davanagere</td>\n",
              "      <td>2</td>\n",
              "      <td>14</td>\n",
              "    </tr>\n",
              "    <tr>\n",
              "      <th>12</th>\n",
              "      <td>Dharwad</td>\n",
              "      <td>1</td>\n",
              "      <td>14</td>\n",
              "    </tr>\n",
              "    <tr>\n",
              "      <th>13</th>\n",
              "      <td>Gadag</td>\n",
              "      <td>1</td>\n",
              "      <td>14</td>\n",
              "    </tr>\n",
              "    <tr>\n",
              "      <th>14</th>\n",
              "      <td>Gulbarga</td>\n",
              "      <td>7</td>\n",
              "      <td>14</td>\n",
              "    </tr>\n",
              "    <tr>\n",
              "      <th>15</th>\n",
              "      <td>Hassan</td>\n",
              "      <td>0</td>\n",
              "      <td>14</td>\n",
              "    </tr>\n",
              "    <tr>\n",
              "      <th>16</th>\n",
              "      <td>Haveri</td>\n",
              "      <td>0</td>\n",
              "      <td>14</td>\n",
              "    </tr>\n",
              "    <tr>\n",
              "      <th>17</th>\n",
              "      <td>Kodagu</td>\n",
              "      <td>1</td>\n",
              "      <td>14</td>\n",
              "    </tr>\n",
              "    <tr>\n",
              "      <th>18</th>\n",
              "      <td>Kolar</td>\n",
              "      <td>0</td>\n",
              "      <td>14</td>\n",
              "    </tr>\n",
              "    <tr>\n",
              "      <th>19</th>\n",
              "      <td>Koppal</td>\n",
              "      <td>0</td>\n",
              "      <td>14</td>\n",
              "    </tr>\n",
              "    <tr>\n",
              "      <th>20</th>\n",
              "      <td>Mandya</td>\n",
              "      <td>3</td>\n",
              "      <td>14</td>\n",
              "    </tr>\n",
              "    <tr>\n",
              "      <th>21</th>\n",
              "      <td>Mysore</td>\n",
              "      <td>35</td>\n",
              "      <td>15</td>\n",
              "    </tr>\n",
              "    <tr>\n",
              "      <th>22</th>\n",
              "      <td>Raichur</td>\n",
              "      <td>0</td>\n",
              "      <td>14</td>\n",
              "    </tr>\n",
              "    <tr>\n",
              "      <th>23</th>\n",
              "      <td>Ramanagara</td>\n",
              "      <td>0</td>\n",
              "      <td>14</td>\n",
              "    </tr>\n",
              "    <tr>\n",
              "      <th>24</th>\n",
              "      <td>Shimoga</td>\n",
              "      <td>0</td>\n",
              "      <td>15</td>\n",
              "    </tr>\n",
              "    <tr>\n",
              "      <th>25</th>\n",
              "      <td>Tumkur</td>\n",
              "      <td>2</td>\n",
              "      <td>14</td>\n",
              "    </tr>\n",
              "    <tr>\n",
              "      <th>26</th>\n",
              "      <td>Udupi</td>\n",
              "      <td>4</td>\n",
              "      <td>17</td>\n",
              "    </tr>\n",
              "    <tr>\n",
              "      <th>27</th>\n",
              "      <td>Uttara Kannada</td>\n",
              "      <td>9</td>\n",
              "      <td>14</td>\n",
              "    </tr>\n",
              "    <tr>\n",
              "      <th>28</th>\n",
              "      <td>Vijayapura</td>\n",
              "      <td>0</td>\n",
              "      <td>14</td>\n",
              "    </tr>\n",
              "    <tr>\n",
              "      <th>29</th>\n",
              "      <td>Yadgir</td>\n",
              "      <td>0</td>\n",
              "      <td>14</td>\n",
              "    </tr>\n",
              "    <tr>\n",
              "      <th>30</th>\n",
              "      <td>Bangalore Rural</td>\n",
              "      <td>3</td>\n",
              "      <td>15</td>\n",
              "    </tr>\n",
              "  </tbody>\n",
              "</table>\n",
              "</div>"
            ],
            "text/plain": [
              "            District  CaseCounts  day14\n",
              "0           Bagalkot           5     14\n",
              "1          Bangalore          58     59\n",
              "2            Belgaum           7     14\n",
              "3            Bellary           6     14\n",
              "4              Bidar          10     14\n",
              "5            Bijapur           0     14\n",
              "6     Chamarajanagar           0     14\n",
              "7    Chikkaballapura          10     14\n",
              "8        Chikmagalur           0     14\n",
              "9        Chitradurga           1     14\n",
              "10  Dakshina Kannada          10     19\n",
              "11        Davanagere           2     14\n",
              "12           Dharwad           1     14\n",
              "13             Gadag           1     14\n",
              "14          Gulbarga           7     14\n",
              "15            Hassan           0     14\n",
              "16            Haveri           0     14\n",
              "17            Kodagu           1     14\n",
              "18             Kolar           0     14\n",
              "19            Koppal           0     14\n",
              "20            Mandya           3     14\n",
              "21            Mysore          35     15\n",
              "22           Raichur           0     14\n",
              "23        Ramanagara           0     14\n",
              "24           Shimoga           0     15\n",
              "25            Tumkur           2     14\n",
              "26             Udupi           4     17\n",
              "27    Uttara Kannada           9     14\n",
              "28        Vijayapura           0     14\n",
              "29            Yadgir           0     14\n",
              "30   Bangalore Rural           3     15"
            ]
          },
          "metadata": {
            "tags": []
          },
          "execution_count": 15
        }
      ]
    },
    {
      "cell_type": "code",
      "metadata": {
        "id": "wOezWEps2gYT",
        "colab_type": "code",
        "colab": {
          "base_uri": "https://localhost:8080/",
          "height": 111
        },
        "outputId": "94d4b19d-bf1f-47f3-c8e4-5819fcc57464"
      },
      "source": [
        "ka_estimated_df_more_than_30[[\"District\", \"CaseCounts\", \"day14\"]][ka_estimated_df_more_than_30.CaseCounts >=30]"
      ],
      "execution_count": 16,
      "outputs": [
        {
          "output_type": "execute_result",
          "data": {
            "text/html": [
              "<div>\n",
              "<style scoped>\n",
              "    .dataframe tbody tr th:only-of-type {\n",
              "        vertical-align: middle;\n",
              "    }\n",
              "\n",
              "    .dataframe tbody tr th {\n",
              "        vertical-align: top;\n",
              "    }\n",
              "\n",
              "    .dataframe thead th {\n",
              "        text-align: right;\n",
              "    }\n",
              "</style>\n",
              "<table border=\"1\" class=\"dataframe\">\n",
              "  <thead>\n",
              "    <tr style=\"text-align: right;\">\n",
              "      <th></th>\n",
              "      <th>District</th>\n",
              "      <th>CaseCounts</th>\n",
              "      <th>day14</th>\n",
              "    </tr>\n",
              "  </thead>\n",
              "  <tbody>\n",
              "    <tr>\n",
              "      <th>1</th>\n",
              "      <td>Bangalore</td>\n",
              "      <td>58</td>\n",
              "      <td>59</td>\n",
              "    </tr>\n",
              "    <tr>\n",
              "      <th>21</th>\n",
              "      <td>Mysore</td>\n",
              "      <td>35</td>\n",
              "      <td>15</td>\n",
              "    </tr>\n",
              "  </tbody>\n",
              "</table>\n",
              "</div>"
            ],
            "text/plain": [
              "     District  CaseCounts  day14\n",
              "1   Bangalore          58     59\n",
              "21     Mysore          35     15"
            ]
          },
          "metadata": {
            "tags": []
          },
          "execution_count": 16
        }
      ]
    },
    {
      "cell_type": "code",
      "metadata": {
        "id": "Rx0B6LT0usRJ",
        "colab_type": "code",
        "colab": {
          "base_uri": "https://localhost:8080/",
          "height": 190
        },
        "outputId": "25d670c8-e048-41f4-c44b-8abbb8092b78"
      },
      "source": [
        "print(f\"Predictions for df_10_to_30\")\n",
        "config_for_10_to_30 = {}\n",
        "config_for_10_to_30 = megs_shitty_grid_search(grid, df_10_to_30, config_for_10_to_30)\n",
        "print(config_for_10_to_30) \n",
        "ka_estimated_df_10_to_30 = estimate(\n",
        "                percent_travellers_infected= config_for_10_to_30[\"percent_travellers_infected\"],\n",
        "                state_df= ka_df,\n",
        "                beta = config_for_10_to_30[\"beta\"],\n",
        "                bus_to_passenger=config_for_10_to_30[\"bus_to_passenger\"], \n",
        "                public_bus_to_private_bus=config_for_10_to_30[\"public_bus_to_private_bus\"],\n",
        "                percent_qtn_infected=config_for_10_to_30[\"percent_qtn_infected\"],\n",
        "                mu_D=config_for_10_to_30[\"mu_D\"], \n",
        "                theta_E=config_for_10_to_30[\"theta_E\"]\n",
        "        )"
      ],
      "execution_count": 17,
      "outputs": [
        {
          "output_type": "stream",
          "text": [
            "  2%|▏         | 7/400 [00:00<00:06, 64.84it/s]"
          ],
          "name": "stderr"
        },
        {
          "output_type": "stream",
          "text": [
            "Predictions for df_10_to_30\n",
            "error : 8.5\n",
            "error : 7.0\n",
            "error : 4.0\n"
          ],
          "name": "stdout"
        },
        {
          "output_type": "stream",
          "text": [
            " 18%|█▊        | 71/400 [00:00<00:04, 74.40it/s]"
          ],
          "name": "stderr"
        },
        {
          "output_type": "stream",
          "text": [
            "error : 2.5\n"
          ],
          "name": "stdout"
        },
        {
          "output_type": "stream",
          "text": [
            " 35%|███▌      | 140/400 [00:02<00:03, 70.43it/s]"
          ],
          "name": "stderr"
        },
        {
          "output_type": "stream",
          "text": [
            "error : 1.5\n"
          ],
          "name": "stdout"
        },
        {
          "output_type": "stream",
          "text": [
            " 65%|██████▌   | 261/400 [00:03<00:01, 76.04it/s]"
          ],
          "name": "stderr"
        },
        {
          "output_type": "stream",
          "text": [
            "error : 1.0\n"
          ],
          "name": "stdout"
        },
        {
          "output_type": "stream",
          "text": [
            "100%|██████████| 400/400 [00:05<00:00, 73.08it/s]\n"
          ],
          "name": "stderr"
        },
        {
          "output_type": "stream",
          "text": [
            "{'theta_I': 0.004, 'theta_E': 0.0002, 'sigma': 0.125, 'public_bus_to_private_bus': 42, 'psi_I': 0.4, 'psi_E': 0.3, 'percent_travellers_infected': 0.081, 'percent_qtn_infected': 0.001, 'mu_D': 0.01, 'gamma': 0.08333333333333333, 'bus_to_passenger': 50, 'beta_D': 0.002, 'beta': 0.8}\n"
          ],
          "name": "stdout"
        }
      ]
    },
    {
      "cell_type": "code",
      "metadata": {
        "id": "jxZGj2favNGk",
        "colab_type": "code",
        "colab": {
          "base_uri": "https://localhost:8080/",
          "height": 1000
        },
        "outputId": "0dfa7776-fd97-464a-ab7a-a28318392f31"
      },
      "source": [
        "print(config_for_more_than_30)\n",
        "ka_estimated_df_10_to_30[[\"District\", \"CaseCounts\", \"day14\"]]"
      ],
      "execution_count": 18,
      "outputs": [
        {
          "output_type": "stream",
          "text": [
            "{'theta_I': 0.005, 'theta_E': 0.0002, 'sigma': 0.1111111111111111, 'public_bus_to_private_bus': 36, 'psi_I': 0.4, 'psi_E': 0.0, 'percent_travellers_infected': 0.091, 'percent_qtn_infected': 0.091, 'mu_D': 0.01, 'gamma': 0.06666666666666667, 'bus_to_passenger': 65, 'beta_D': 0.005, 'beta': 0.8}\n"
          ],
          "name": "stdout"
        },
        {
          "output_type": "execute_result",
          "data": {
            "text/html": [
              "<div>\n",
              "<style scoped>\n",
              "    .dataframe tbody tr th:only-of-type {\n",
              "        vertical-align: middle;\n",
              "    }\n",
              "\n",
              "    .dataframe tbody tr th {\n",
              "        vertical-align: top;\n",
              "    }\n",
              "\n",
              "    .dataframe thead th {\n",
              "        text-align: right;\n",
              "    }\n",
              "</style>\n",
              "<table border=\"1\" class=\"dataframe\">\n",
              "  <thead>\n",
              "    <tr style=\"text-align: right;\">\n",
              "      <th></th>\n",
              "      <th>District</th>\n",
              "      <th>CaseCounts</th>\n",
              "      <th>day14</th>\n",
              "    </tr>\n",
              "  </thead>\n",
              "  <tbody>\n",
              "    <tr>\n",
              "      <th>0</th>\n",
              "      <td>Bagalkot</td>\n",
              "      <td>5</td>\n",
              "      <td>20</td>\n",
              "    </tr>\n",
              "    <tr>\n",
              "      <th>1</th>\n",
              "      <td>Bangalore</td>\n",
              "      <td>58</td>\n",
              "      <td>21</td>\n",
              "    </tr>\n",
              "    <tr>\n",
              "      <th>2</th>\n",
              "      <td>Belgaum</td>\n",
              "      <td>7</td>\n",
              "      <td>20</td>\n",
              "    </tr>\n",
              "    <tr>\n",
              "      <th>3</th>\n",
              "      <td>Bellary</td>\n",
              "      <td>6</td>\n",
              "      <td>20</td>\n",
              "    </tr>\n",
              "    <tr>\n",
              "      <th>4</th>\n",
              "      <td>Bidar</td>\n",
              "      <td>10</td>\n",
              "      <td>20</td>\n",
              "    </tr>\n",
              "    <tr>\n",
              "      <th>5</th>\n",
              "      <td>Bijapur</td>\n",
              "      <td>0</td>\n",
              "      <td>20</td>\n",
              "    </tr>\n",
              "    <tr>\n",
              "      <th>6</th>\n",
              "      <td>Chamarajanagar</td>\n",
              "      <td>0</td>\n",
              "      <td>20</td>\n",
              "    </tr>\n",
              "    <tr>\n",
              "      <th>7</th>\n",
              "      <td>Chikkaballapura</td>\n",
              "      <td>10</td>\n",
              "      <td>20</td>\n",
              "    </tr>\n",
              "    <tr>\n",
              "      <th>8</th>\n",
              "      <td>Chikmagalur</td>\n",
              "      <td>0</td>\n",
              "      <td>20</td>\n",
              "    </tr>\n",
              "    <tr>\n",
              "      <th>9</th>\n",
              "      <td>Chitradurga</td>\n",
              "      <td>1</td>\n",
              "      <td>20</td>\n",
              "    </tr>\n",
              "    <tr>\n",
              "      <th>10</th>\n",
              "      <td>Dakshina Kannada</td>\n",
              "      <td>10</td>\n",
              "      <td>20</td>\n",
              "    </tr>\n",
              "    <tr>\n",
              "      <th>11</th>\n",
              "      <td>Davanagere</td>\n",
              "      <td>2</td>\n",
              "      <td>20</td>\n",
              "    </tr>\n",
              "    <tr>\n",
              "      <th>12</th>\n",
              "      <td>Dharwad</td>\n",
              "      <td>1</td>\n",
              "      <td>20</td>\n",
              "    </tr>\n",
              "    <tr>\n",
              "      <th>13</th>\n",
              "      <td>Gadag</td>\n",
              "      <td>1</td>\n",
              "      <td>20</td>\n",
              "    </tr>\n",
              "    <tr>\n",
              "      <th>14</th>\n",
              "      <td>Gulbarga</td>\n",
              "      <td>7</td>\n",
              "      <td>20</td>\n",
              "    </tr>\n",
              "    <tr>\n",
              "      <th>15</th>\n",
              "      <td>Hassan</td>\n",
              "      <td>0</td>\n",
              "      <td>20</td>\n",
              "    </tr>\n",
              "    <tr>\n",
              "      <th>16</th>\n",
              "      <td>Haveri</td>\n",
              "      <td>0</td>\n",
              "      <td>20</td>\n",
              "    </tr>\n",
              "    <tr>\n",
              "      <th>17</th>\n",
              "      <td>Kodagu</td>\n",
              "      <td>1</td>\n",
              "      <td>20</td>\n",
              "    </tr>\n",
              "    <tr>\n",
              "      <th>18</th>\n",
              "      <td>Kolar</td>\n",
              "      <td>0</td>\n",
              "      <td>20</td>\n",
              "    </tr>\n",
              "    <tr>\n",
              "      <th>19</th>\n",
              "      <td>Koppal</td>\n",
              "      <td>0</td>\n",
              "      <td>20</td>\n",
              "    </tr>\n",
              "    <tr>\n",
              "      <th>20</th>\n",
              "      <td>Mandya</td>\n",
              "      <td>3</td>\n",
              "      <td>20</td>\n",
              "    </tr>\n",
              "    <tr>\n",
              "      <th>21</th>\n",
              "      <td>Mysore</td>\n",
              "      <td>35</td>\n",
              "      <td>20</td>\n",
              "    </tr>\n",
              "    <tr>\n",
              "      <th>22</th>\n",
              "      <td>Raichur</td>\n",
              "      <td>0</td>\n",
              "      <td>20</td>\n",
              "    </tr>\n",
              "    <tr>\n",
              "      <th>23</th>\n",
              "      <td>Ramanagara</td>\n",
              "      <td>0</td>\n",
              "      <td>20</td>\n",
              "    </tr>\n",
              "    <tr>\n",
              "      <th>24</th>\n",
              "      <td>Shimoga</td>\n",
              "      <td>0</td>\n",
              "      <td>20</td>\n",
              "    </tr>\n",
              "    <tr>\n",
              "      <th>25</th>\n",
              "      <td>Tumkur</td>\n",
              "      <td>2</td>\n",
              "      <td>20</td>\n",
              "    </tr>\n",
              "    <tr>\n",
              "      <th>26</th>\n",
              "      <td>Udupi</td>\n",
              "      <td>4</td>\n",
              "      <td>20</td>\n",
              "    </tr>\n",
              "    <tr>\n",
              "      <th>27</th>\n",
              "      <td>Uttara Kannada</td>\n",
              "      <td>9</td>\n",
              "      <td>20</td>\n",
              "    </tr>\n",
              "    <tr>\n",
              "      <th>28</th>\n",
              "      <td>Vijayapura</td>\n",
              "      <td>0</td>\n",
              "      <td>20</td>\n",
              "    </tr>\n",
              "    <tr>\n",
              "      <th>29</th>\n",
              "      <td>Yadgir</td>\n",
              "      <td>0</td>\n",
              "      <td>20</td>\n",
              "    </tr>\n",
              "    <tr>\n",
              "      <th>30</th>\n",
              "      <td>Bangalore Rural</td>\n",
              "      <td>3</td>\n",
              "      <td>20</td>\n",
              "    </tr>\n",
              "  </tbody>\n",
              "</table>\n",
              "</div>"
            ],
            "text/plain": [
              "            District  CaseCounts  day14\n",
              "0           Bagalkot           5     20\n",
              "1          Bangalore          58     21\n",
              "2            Belgaum           7     20\n",
              "3            Bellary           6     20\n",
              "4              Bidar          10     20\n",
              "5            Bijapur           0     20\n",
              "6     Chamarajanagar           0     20\n",
              "7    Chikkaballapura          10     20\n",
              "8        Chikmagalur           0     20\n",
              "9        Chitradurga           1     20\n",
              "10  Dakshina Kannada          10     20\n",
              "11        Davanagere           2     20\n",
              "12           Dharwad           1     20\n",
              "13             Gadag           1     20\n",
              "14          Gulbarga           7     20\n",
              "15            Hassan           0     20\n",
              "16            Haveri           0     20\n",
              "17            Kodagu           1     20\n",
              "18             Kolar           0     20\n",
              "19            Koppal           0     20\n",
              "20            Mandya           3     20\n",
              "21            Mysore          35     20\n",
              "22           Raichur           0     20\n",
              "23        Ramanagara           0     20\n",
              "24           Shimoga           0     20\n",
              "25            Tumkur           2     20\n",
              "26             Udupi           4     20\n",
              "27    Uttara Kannada           9     20\n",
              "28        Vijayapura           0     20\n",
              "29            Yadgir           0     20\n",
              "30   Bangalore Rural           3     20"
            ]
          },
          "metadata": {
            "tags": []
          },
          "execution_count": 18
        }
      ]
    },
    {
      "cell_type": "code",
      "metadata": {
        "id": "E61IJFbM2mtC",
        "colab_type": "code",
        "colab": {
          "base_uri": "https://localhost:8080/",
          "height": 179
        },
        "outputId": "c8e284d3-826c-470c-bcf4-bb7abbffb913"
      },
      "source": [
        "print(config_for_10_to_30)\n",
        "ka_estimated_df_10_to_30[[\"District\", \"CaseCounts\", \"day14\"]][ka_estimated_df_10_to_30.CaseCounts >=10][ka_estimated_df_10_to_30.CaseCounts <30]"
      ],
      "execution_count": 19,
      "outputs": [
        {
          "output_type": "stream",
          "text": [
            "{'theta_I': 0.004, 'theta_E': 0.0002, 'sigma': 0.125, 'public_bus_to_private_bus': 42, 'psi_I': 0.4, 'psi_E': 0.3, 'percent_travellers_infected': 0.081, 'percent_qtn_infected': 0.001, 'mu_D': 0.01, 'gamma': 0.08333333333333333, 'bus_to_passenger': 50, 'beta_D': 0.002, 'beta': 0.8}\n"
          ],
          "name": "stdout"
        },
        {
          "output_type": "execute_result",
          "data": {
            "text/html": [
              "<div>\n",
              "<style scoped>\n",
              "    .dataframe tbody tr th:only-of-type {\n",
              "        vertical-align: middle;\n",
              "    }\n",
              "\n",
              "    .dataframe tbody tr th {\n",
              "        vertical-align: top;\n",
              "    }\n",
              "\n",
              "    .dataframe thead th {\n",
              "        text-align: right;\n",
              "    }\n",
              "</style>\n",
              "<table border=\"1\" class=\"dataframe\">\n",
              "  <thead>\n",
              "    <tr style=\"text-align: right;\">\n",
              "      <th></th>\n",
              "      <th>District</th>\n",
              "      <th>CaseCounts</th>\n",
              "      <th>day14</th>\n",
              "    </tr>\n",
              "  </thead>\n",
              "  <tbody>\n",
              "    <tr>\n",
              "      <th>4</th>\n",
              "      <td>Bidar</td>\n",
              "      <td>10</td>\n",
              "      <td>20</td>\n",
              "    </tr>\n",
              "    <tr>\n",
              "      <th>7</th>\n",
              "      <td>Chikkaballapura</td>\n",
              "      <td>10</td>\n",
              "      <td>20</td>\n",
              "    </tr>\n",
              "    <tr>\n",
              "      <th>10</th>\n",
              "      <td>Dakshina Kannada</td>\n",
              "      <td>10</td>\n",
              "      <td>20</td>\n",
              "    </tr>\n",
              "  </tbody>\n",
              "</table>\n",
              "</div>"
            ],
            "text/plain": [
              "            District  CaseCounts  day14\n",
              "4              Bidar          10     20\n",
              "7    Chikkaballapura          10     20\n",
              "10  Dakshina Kannada          10     20"
            ]
          },
          "metadata": {
            "tags": []
          },
          "execution_count": 19
        }
      ]
    },
    {
      "cell_type": "code",
      "metadata": {
        "id": "TQIaMOSduxBj",
        "colab_type": "code",
        "colab": {
          "base_uri": "https://localhost:8080/",
          "height": 156
        },
        "outputId": "ebf18932-2a3c-4b1b-be5a-81be4bb53411"
      },
      "source": [
        "print(f\"Predictions for df_less_than_10\")\n",
        "config_for_less_than_10 = {}\n",
        "config_for_less_than_10 = megs_shitty_grid_search(grid, df_less_than_10, config_for_less_than_10)\n",
        "print(config_for_less_than_10) \n",
        "ka_estimated_df_less_than_10 = estimate(\n",
        "                percent_travellers_infected= config_for_less_than_10[\"percent_travellers_infected\"],\n",
        "                state_df= ka_df,\n",
        "                beta = config_for_less_than_10[\"beta\"],\n",
        "                bus_to_passenger=config_for_less_than_10[\"bus_to_passenger\"], \n",
        "                public_bus_to_private_bus=config_for_less_than_10[\"public_bus_to_private_bus\"],\n",
        "                percent_qtn_infected=config_for_less_than_10[\"percent_qtn_infected\"],\n",
        "                mu_D=config_for_less_than_10[\"mu_D\"], \n",
        "                theta_E=config_for_less_than_10[\"theta_E\"]\n",
        "        )"
      ],
      "execution_count": 20,
      "outputs": [
        {
          "output_type": "stream",
          "text": [
            "Predictions for df_less_than_10\n"
          ],
          "name": "stdout"
        },
        {
          "output_type": "stream",
          "text": [
            "  0%|          | 1/400 [00:00<00:40,  9.87it/s]"
          ],
          "name": "stderr"
        },
        {
          "output_type": "stream",
          "text": [
            "error : 2.0869565217391304\n"
          ],
          "name": "stdout"
        },
        {
          "output_type": "stream",
          "text": [
            " 10%|█         | 40/400 [00:03<00:35, 10.20it/s]"
          ],
          "name": "stderr"
        },
        {
          "output_type": "stream",
          "text": [
            "error : 2.0434782608695654\n"
          ],
          "name": "stdout"
        },
        {
          "output_type": "stream",
          "text": [
            " 92%|█████████▏| 368/400 [00:35<00:02, 10.92it/s]"
          ],
          "name": "stderr"
        },
        {
          "output_type": "stream",
          "text": [
            "error : 1.9130434782608696\n"
          ],
          "name": "stdout"
        },
        {
          "output_type": "stream",
          "text": [
            "100%|██████████| 400/400 [00:38<00:00, 10.26it/s]"
          ],
          "name": "stderr"
        },
        {
          "output_type": "stream",
          "text": [
            "{'theta_I': 0.005, 'theta_E': 0.0002, 'sigma': 0.14285714285714285, 'public_bus_to_private_bus': 44, 'psi_I': 0.1, 'psi_E': 0.0, 'percent_travellers_infected': 0.021, 'percent_qtn_infected': 0.051, 'mu_D': 0.01, 'gamma': 0.0625, 'bus_to_passenger': 70, 'beta_D': 0.002, 'beta': 0.6}\n"
          ],
          "name": "stdout"
        },
        {
          "output_type": "stream",
          "text": [
            "\n"
          ],
          "name": "stderr"
        }
      ]
    },
    {
      "cell_type": "code",
      "metadata": {
        "id": "0IAlfiJSvP5E",
        "colab_type": "code",
        "colab": {
          "base_uri": "https://localhost:8080/",
          "height": 1000
        },
        "outputId": "113cab42-67ce-4322-d090-50c2ce7fcd3c"
      },
      "source": [
        "ka_estimated_df_less_than_10[[\"District\", \"CaseCounts\", \"day14\"]]"
      ],
      "execution_count": 21,
      "outputs": [
        {
          "output_type": "execute_result",
          "data": {
            "text/html": [
              "<div>\n",
              "<style scoped>\n",
              "    .dataframe tbody tr th:only-of-type {\n",
              "        vertical-align: middle;\n",
              "    }\n",
              "\n",
              "    .dataframe tbody tr th {\n",
              "        vertical-align: top;\n",
              "    }\n",
              "\n",
              "    .dataframe thead th {\n",
              "        text-align: right;\n",
              "    }\n",
              "</style>\n",
              "<table border=\"1\" class=\"dataframe\">\n",
              "  <thead>\n",
              "    <tr style=\"text-align: right;\">\n",
              "      <th></th>\n",
              "      <th>District</th>\n",
              "      <th>CaseCounts</th>\n",
              "      <th>day14</th>\n",
              "    </tr>\n",
              "  </thead>\n",
              "  <tbody>\n",
              "    <tr>\n",
              "      <th>0</th>\n",
              "      <td>Bagalkot</td>\n",
              "      <td>5</td>\n",
              "      <td>4</td>\n",
              "    </tr>\n",
              "    <tr>\n",
              "      <th>1</th>\n",
              "      <td>Bangalore</td>\n",
              "      <td>58</td>\n",
              "      <td>30</td>\n",
              "    </tr>\n",
              "    <tr>\n",
              "      <th>2</th>\n",
              "      <td>Belgaum</td>\n",
              "      <td>7</td>\n",
              "      <td>4</td>\n",
              "    </tr>\n",
              "    <tr>\n",
              "      <th>3</th>\n",
              "      <td>Bellary</td>\n",
              "      <td>6</td>\n",
              "      <td>4</td>\n",
              "    </tr>\n",
              "    <tr>\n",
              "      <th>4</th>\n",
              "      <td>Bidar</td>\n",
              "      <td>10</td>\n",
              "      <td>4</td>\n",
              "    </tr>\n",
              "    <tr>\n",
              "      <th>5</th>\n",
              "      <td>Bijapur</td>\n",
              "      <td>0</td>\n",
              "      <td>4</td>\n",
              "    </tr>\n",
              "    <tr>\n",
              "      <th>6</th>\n",
              "      <td>Chamarajanagar</td>\n",
              "      <td>0</td>\n",
              "      <td>4</td>\n",
              "    </tr>\n",
              "    <tr>\n",
              "      <th>7</th>\n",
              "      <td>Chikkaballapura</td>\n",
              "      <td>10</td>\n",
              "      <td>4</td>\n",
              "    </tr>\n",
              "    <tr>\n",
              "      <th>8</th>\n",
              "      <td>Chikmagalur</td>\n",
              "      <td>0</td>\n",
              "      <td>4</td>\n",
              "    </tr>\n",
              "    <tr>\n",
              "      <th>9</th>\n",
              "      <td>Chitradurga</td>\n",
              "      <td>1</td>\n",
              "      <td>4</td>\n",
              "    </tr>\n",
              "    <tr>\n",
              "      <th>10</th>\n",
              "      <td>Dakshina Kannada</td>\n",
              "      <td>10</td>\n",
              "      <td>7</td>\n",
              "    </tr>\n",
              "    <tr>\n",
              "      <th>11</th>\n",
              "      <td>Davanagere</td>\n",
              "      <td>2</td>\n",
              "      <td>4</td>\n",
              "    </tr>\n",
              "    <tr>\n",
              "      <th>12</th>\n",
              "      <td>Dharwad</td>\n",
              "      <td>1</td>\n",
              "      <td>4</td>\n",
              "    </tr>\n",
              "    <tr>\n",
              "      <th>13</th>\n",
              "      <td>Gadag</td>\n",
              "      <td>1</td>\n",
              "      <td>4</td>\n",
              "    </tr>\n",
              "    <tr>\n",
              "      <th>14</th>\n",
              "      <td>Gulbarga</td>\n",
              "      <td>7</td>\n",
              "      <td>4</td>\n",
              "    </tr>\n",
              "    <tr>\n",
              "      <th>15</th>\n",
              "      <td>Hassan</td>\n",
              "      <td>0</td>\n",
              "      <td>4</td>\n",
              "    </tr>\n",
              "    <tr>\n",
              "      <th>16</th>\n",
              "      <td>Haveri</td>\n",
              "      <td>0</td>\n",
              "      <td>4</td>\n",
              "    </tr>\n",
              "    <tr>\n",
              "      <th>17</th>\n",
              "      <td>Kodagu</td>\n",
              "      <td>1</td>\n",
              "      <td>4</td>\n",
              "    </tr>\n",
              "    <tr>\n",
              "      <th>18</th>\n",
              "      <td>Kolar</td>\n",
              "      <td>0</td>\n",
              "      <td>4</td>\n",
              "    </tr>\n",
              "    <tr>\n",
              "      <th>19</th>\n",
              "      <td>Koppal</td>\n",
              "      <td>0</td>\n",
              "      <td>4</td>\n",
              "    </tr>\n",
              "    <tr>\n",
              "      <th>20</th>\n",
              "      <td>Mandya</td>\n",
              "      <td>3</td>\n",
              "      <td>4</td>\n",
              "    </tr>\n",
              "    <tr>\n",
              "      <th>21</th>\n",
              "      <td>Mysore</td>\n",
              "      <td>35</td>\n",
              "      <td>5</td>\n",
              "    </tr>\n",
              "    <tr>\n",
              "      <th>22</th>\n",
              "      <td>Raichur</td>\n",
              "      <td>0</td>\n",
              "      <td>4</td>\n",
              "    </tr>\n",
              "    <tr>\n",
              "      <th>23</th>\n",
              "      <td>Ramanagara</td>\n",
              "      <td>0</td>\n",
              "      <td>4</td>\n",
              "    </tr>\n",
              "    <tr>\n",
              "      <th>24</th>\n",
              "      <td>Shimoga</td>\n",
              "      <td>0</td>\n",
              "      <td>4</td>\n",
              "    </tr>\n",
              "    <tr>\n",
              "      <th>25</th>\n",
              "      <td>Tumkur</td>\n",
              "      <td>2</td>\n",
              "      <td>4</td>\n",
              "    </tr>\n",
              "    <tr>\n",
              "      <th>26</th>\n",
              "      <td>Udupi</td>\n",
              "      <td>4</td>\n",
              "      <td>5</td>\n",
              "    </tr>\n",
              "    <tr>\n",
              "      <th>27</th>\n",
              "      <td>Uttara Kannada</td>\n",
              "      <td>9</td>\n",
              "      <td>4</td>\n",
              "    </tr>\n",
              "    <tr>\n",
              "      <th>28</th>\n",
              "      <td>Vijayapura</td>\n",
              "      <td>0</td>\n",
              "      <td>4</td>\n",
              "    </tr>\n",
              "    <tr>\n",
              "      <th>29</th>\n",
              "      <td>Yadgir</td>\n",
              "      <td>0</td>\n",
              "      <td>4</td>\n",
              "    </tr>\n",
              "    <tr>\n",
              "      <th>30</th>\n",
              "      <td>Bangalore Rural</td>\n",
              "      <td>3</td>\n",
              "      <td>4</td>\n",
              "    </tr>\n",
              "  </tbody>\n",
              "</table>\n",
              "</div>"
            ],
            "text/plain": [
              "            District  CaseCounts  day14\n",
              "0           Bagalkot           5      4\n",
              "1          Bangalore          58     30\n",
              "2            Belgaum           7      4\n",
              "3            Bellary           6      4\n",
              "4              Bidar          10      4\n",
              "5            Bijapur           0      4\n",
              "6     Chamarajanagar           0      4\n",
              "7    Chikkaballapura          10      4\n",
              "8        Chikmagalur           0      4\n",
              "9        Chitradurga           1      4\n",
              "10  Dakshina Kannada          10      7\n",
              "11        Davanagere           2      4\n",
              "12           Dharwad           1      4\n",
              "13             Gadag           1      4\n",
              "14          Gulbarga           7      4\n",
              "15            Hassan           0      4\n",
              "16            Haveri           0      4\n",
              "17            Kodagu           1      4\n",
              "18             Kolar           0      4\n",
              "19            Koppal           0      4\n",
              "20            Mandya           3      4\n",
              "21            Mysore          35      5\n",
              "22           Raichur           0      4\n",
              "23        Ramanagara           0      4\n",
              "24           Shimoga           0      4\n",
              "25            Tumkur           2      4\n",
              "26             Udupi           4      5\n",
              "27    Uttara Kannada           9      4\n",
              "28        Vijayapura           0      4\n",
              "29            Yadgir           0      4\n",
              "30   Bangalore Rural           3      4"
            ]
          },
          "metadata": {
            "tags": []
          },
          "execution_count": 21
        }
      ]
    },
    {
      "cell_type": "code",
      "metadata": {
        "id": "q_-Odv7Z23t3",
        "colab_type": "code",
        "colab": {
          "base_uri": "https://localhost:8080/",
          "height": 892
        },
        "outputId": "00a27a5c-a7d5-43f5-8416-f5e348138f32"
      },
      "source": [
        "print(config_for_less_than_10)\n",
        "ka_estimated_df_less_than_10[[\"District\", \"CaseCounts\", \"day14\"]][ka_estimated_df_less_than_10.CaseCounts <10]"
      ],
      "execution_count": 22,
      "outputs": [
        {
          "output_type": "stream",
          "text": [
            "{'theta_I': 0.005, 'theta_E': 0.0002, 'sigma': 0.14285714285714285, 'public_bus_to_private_bus': 44, 'psi_I': 0.1, 'psi_E': 0.0, 'percent_travellers_infected': 0.021, 'percent_qtn_infected': 0.051, 'mu_D': 0.01, 'gamma': 0.0625, 'bus_to_passenger': 70, 'beta_D': 0.002, 'beta': 0.6}\n"
          ],
          "name": "stdout"
        },
        {
          "output_type": "execute_result",
          "data": {
            "text/html": [
              "<div>\n",
              "<style scoped>\n",
              "    .dataframe tbody tr th:only-of-type {\n",
              "        vertical-align: middle;\n",
              "    }\n",
              "\n",
              "    .dataframe tbody tr th {\n",
              "        vertical-align: top;\n",
              "    }\n",
              "\n",
              "    .dataframe thead th {\n",
              "        text-align: right;\n",
              "    }\n",
              "</style>\n",
              "<table border=\"1\" class=\"dataframe\">\n",
              "  <thead>\n",
              "    <tr style=\"text-align: right;\">\n",
              "      <th></th>\n",
              "      <th>District</th>\n",
              "      <th>CaseCounts</th>\n",
              "      <th>day14</th>\n",
              "    </tr>\n",
              "  </thead>\n",
              "  <tbody>\n",
              "    <tr>\n",
              "      <th>0</th>\n",
              "      <td>Bagalkot</td>\n",
              "      <td>5</td>\n",
              "      <td>4</td>\n",
              "    </tr>\n",
              "    <tr>\n",
              "      <th>2</th>\n",
              "      <td>Belgaum</td>\n",
              "      <td>7</td>\n",
              "      <td>4</td>\n",
              "    </tr>\n",
              "    <tr>\n",
              "      <th>3</th>\n",
              "      <td>Bellary</td>\n",
              "      <td>6</td>\n",
              "      <td>4</td>\n",
              "    </tr>\n",
              "    <tr>\n",
              "      <th>5</th>\n",
              "      <td>Bijapur</td>\n",
              "      <td>0</td>\n",
              "      <td>4</td>\n",
              "    </tr>\n",
              "    <tr>\n",
              "      <th>6</th>\n",
              "      <td>Chamarajanagar</td>\n",
              "      <td>0</td>\n",
              "      <td>4</td>\n",
              "    </tr>\n",
              "    <tr>\n",
              "      <th>8</th>\n",
              "      <td>Chikmagalur</td>\n",
              "      <td>0</td>\n",
              "      <td>4</td>\n",
              "    </tr>\n",
              "    <tr>\n",
              "      <th>9</th>\n",
              "      <td>Chitradurga</td>\n",
              "      <td>1</td>\n",
              "      <td>4</td>\n",
              "    </tr>\n",
              "    <tr>\n",
              "      <th>11</th>\n",
              "      <td>Davanagere</td>\n",
              "      <td>2</td>\n",
              "      <td>4</td>\n",
              "    </tr>\n",
              "    <tr>\n",
              "      <th>12</th>\n",
              "      <td>Dharwad</td>\n",
              "      <td>1</td>\n",
              "      <td>4</td>\n",
              "    </tr>\n",
              "    <tr>\n",
              "      <th>13</th>\n",
              "      <td>Gadag</td>\n",
              "      <td>1</td>\n",
              "      <td>4</td>\n",
              "    </tr>\n",
              "    <tr>\n",
              "      <th>14</th>\n",
              "      <td>Gulbarga</td>\n",
              "      <td>7</td>\n",
              "      <td>4</td>\n",
              "    </tr>\n",
              "    <tr>\n",
              "      <th>15</th>\n",
              "      <td>Hassan</td>\n",
              "      <td>0</td>\n",
              "      <td>4</td>\n",
              "    </tr>\n",
              "    <tr>\n",
              "      <th>16</th>\n",
              "      <td>Haveri</td>\n",
              "      <td>0</td>\n",
              "      <td>4</td>\n",
              "    </tr>\n",
              "    <tr>\n",
              "      <th>17</th>\n",
              "      <td>Kodagu</td>\n",
              "      <td>1</td>\n",
              "      <td>4</td>\n",
              "    </tr>\n",
              "    <tr>\n",
              "      <th>18</th>\n",
              "      <td>Kolar</td>\n",
              "      <td>0</td>\n",
              "      <td>4</td>\n",
              "    </tr>\n",
              "    <tr>\n",
              "      <th>19</th>\n",
              "      <td>Koppal</td>\n",
              "      <td>0</td>\n",
              "      <td>4</td>\n",
              "    </tr>\n",
              "    <tr>\n",
              "      <th>20</th>\n",
              "      <td>Mandya</td>\n",
              "      <td>3</td>\n",
              "      <td>4</td>\n",
              "    </tr>\n",
              "    <tr>\n",
              "      <th>22</th>\n",
              "      <td>Raichur</td>\n",
              "      <td>0</td>\n",
              "      <td>4</td>\n",
              "    </tr>\n",
              "    <tr>\n",
              "      <th>23</th>\n",
              "      <td>Ramanagara</td>\n",
              "      <td>0</td>\n",
              "      <td>4</td>\n",
              "    </tr>\n",
              "    <tr>\n",
              "      <th>24</th>\n",
              "      <td>Shimoga</td>\n",
              "      <td>0</td>\n",
              "      <td>4</td>\n",
              "    </tr>\n",
              "    <tr>\n",
              "      <th>25</th>\n",
              "      <td>Tumkur</td>\n",
              "      <td>2</td>\n",
              "      <td>4</td>\n",
              "    </tr>\n",
              "    <tr>\n",
              "      <th>26</th>\n",
              "      <td>Udupi</td>\n",
              "      <td>4</td>\n",
              "      <td>5</td>\n",
              "    </tr>\n",
              "    <tr>\n",
              "      <th>27</th>\n",
              "      <td>Uttara Kannada</td>\n",
              "      <td>9</td>\n",
              "      <td>4</td>\n",
              "    </tr>\n",
              "    <tr>\n",
              "      <th>28</th>\n",
              "      <td>Vijayapura</td>\n",
              "      <td>0</td>\n",
              "      <td>4</td>\n",
              "    </tr>\n",
              "    <tr>\n",
              "      <th>29</th>\n",
              "      <td>Yadgir</td>\n",
              "      <td>0</td>\n",
              "      <td>4</td>\n",
              "    </tr>\n",
              "    <tr>\n",
              "      <th>30</th>\n",
              "      <td>Bangalore Rural</td>\n",
              "      <td>3</td>\n",
              "      <td>4</td>\n",
              "    </tr>\n",
              "  </tbody>\n",
              "</table>\n",
              "</div>"
            ],
            "text/plain": [
              "           District  CaseCounts  day14\n",
              "0          Bagalkot           5      4\n",
              "2           Belgaum           7      4\n",
              "3           Bellary           6      4\n",
              "5           Bijapur           0      4\n",
              "6    Chamarajanagar           0      4\n",
              "8       Chikmagalur           0      4\n",
              "9       Chitradurga           1      4\n",
              "11       Davanagere           2      4\n",
              "12          Dharwad           1      4\n",
              "13            Gadag           1      4\n",
              "14         Gulbarga           7      4\n",
              "15           Hassan           0      4\n",
              "16           Haveri           0      4\n",
              "17           Kodagu           1      4\n",
              "18            Kolar           0      4\n",
              "19           Koppal           0      4\n",
              "20           Mandya           3      4\n",
              "22          Raichur           0      4\n",
              "23       Ramanagara           0      4\n",
              "24          Shimoga           0      4\n",
              "25           Tumkur           2      4\n",
              "26            Udupi           4      5\n",
              "27   Uttara Kannada           9      4\n",
              "28       Vijayapura           0      4\n",
              "29           Yadgir           0      4\n",
              "30  Bangalore Rural           3      4"
            ]
          },
          "metadata": {
            "tags": []
          },
          "execution_count": 22
        }
      ]
    },
    {
      "cell_type": "code",
      "metadata": {
        "id": "Vl_BOr2r4I3k",
        "colab_type": "code",
        "colab": {
          "base_uri": "https://localhost:8080/",
          "height": 173
        },
        "outputId": "12647271-66fd-4678-8286-c40cb3bb05b8"
      },
      "source": [
        "print(f\"Predictions for df_without_bangalore\")\n",
        "config_for_without_bangalore = {}\n",
        "config_for_without_bangalore = megs_shitty_grid_search(grid, df_without_bangalore, config_for_without_bangalore)\n",
        "print(config_for_without_bangalore) \n",
        "ka_estimated_df_without_bangalore = estimate(\n",
        "                percent_travellers_infected= config_for_without_bangalore[\"percent_travellers_infected\"],\n",
        "                state_df= ka_df,\n",
        "                beta = config_for_without_bangalore[\"beta\"],\n",
        "                bus_to_passenger=config_for_without_bangalore[\"bus_to_passenger\"], \n",
        "                public_bus_to_private_bus=config_for_without_bangalore[\"public_bus_to_private_bus\"],\n",
        "                percent_qtn_infected=config_for_without_bangalore[\"percent_qtn_infected\"],\n",
        "                mu_D=config_for_without_bangalore[\"mu_D\"], \n",
        "                theta_E=config_for_without_bangalore[\"theta_E\"]\n",
        "        )"
      ],
      "execution_count": 29,
      "outputs": [
        {
          "output_type": "stream",
          "text": [
            "  0%|          | 1/400 [00:00<00:41,  9.66it/s]"
          ],
          "name": "stderr"
        },
        {
          "output_type": "stream",
          "text": [
            "Predictions for df_without_bangalore\n",
            "error : 4.12\n"
          ],
          "name": "stdout"
        },
        {
          "output_type": "stream",
          "text": [
            "  1%|▏         | 5/400 [00:00<00:43,  9.02it/s]"
          ],
          "name": "stderr"
        },
        {
          "output_type": "stream",
          "text": [
            "error : 3.92\n"
          ],
          "name": "stdout"
        },
        {
          "output_type": "stream",
          "text": [
            "  7%|▋         | 27/400 [00:02<00:39,  9.52it/s]"
          ],
          "name": "stderr"
        },
        {
          "output_type": "stream",
          "text": [
            "error : 3.84\n"
          ],
          "name": "stdout"
        },
        {
          "output_type": "stream",
          "text": [
            " 10%|█         | 41/400 [00:04<00:38,  9.39it/s]"
          ],
          "name": "stderr"
        },
        {
          "output_type": "stream",
          "text": [
            "error : 3.8\n"
          ],
          "name": "stdout"
        },
        {
          "output_type": "stream",
          "text": [
            " 43%|████▎     | 172/400 [00:18<00:24,  9.21it/s]"
          ],
          "name": "stderr"
        },
        {
          "output_type": "stream",
          "text": [
            "error : 3.76\n"
          ],
          "name": "stdout"
        },
        {
          "output_type": "stream",
          "text": [
            "100%|██████████| 400/400 [00:42<00:00,  9.37it/s]\n"
          ],
          "name": "stderr"
        },
        {
          "output_type": "stream",
          "text": [
            "{'theta_I': 0.004, 'theta_E': 0.0001, 'sigma': 0.08333333333333333, 'public_bus_to_private_bus': 33, 'psi_I': 0.2, 'psi_E': 0.4, 'percent_travellers_infected': 0.051, 'percent_qtn_infected': 0.081, 'mu_D': 0.04, 'gamma': 0.08333333333333333, 'bus_to_passenger': 65, 'beta_D': 0.001, 'beta': 0.5}\n"
          ],
          "name": "stdout"
        }
      ]
    },
    {
      "cell_type": "code",
      "metadata": {
        "id": "pCaHBeDD4SD1",
        "colab_type": "code",
        "colab": {
          "base_uri": "https://localhost:8080/",
          "height": 1000
        },
        "outputId": "1b1eaa81-c94f-4b58-d734-a4a9a2876b11"
      },
      "source": [
        "ka_estimated_df_without_bangalore[[\"District\", \"CaseCounts\", \"day14\"]]"
      ],
      "execution_count": 30,
      "outputs": [
        {
          "output_type": "execute_result",
          "data": {
            "text/html": [
              "<div>\n",
              "<style scoped>\n",
              "    .dataframe tbody tr th:only-of-type {\n",
              "        vertical-align: middle;\n",
              "    }\n",
              "\n",
              "    .dataframe tbody tr th {\n",
              "        vertical-align: top;\n",
              "    }\n",
              "\n",
              "    .dataframe thead th {\n",
              "        text-align: right;\n",
              "    }\n",
              "</style>\n",
              "<table border=\"1\" class=\"dataframe\">\n",
              "  <thead>\n",
              "    <tr style=\"text-align: right;\">\n",
              "      <th></th>\n",
              "      <th>District</th>\n",
              "      <th>CaseCounts</th>\n",
              "      <th>day14</th>\n",
              "    </tr>\n",
              "  </thead>\n",
              "  <tbody>\n",
              "    <tr>\n",
              "      <th>0</th>\n",
              "      <td>Bagalkot</td>\n",
              "      <td>5</td>\n",
              "      <td>5</td>\n",
              "    </tr>\n",
              "    <tr>\n",
              "      <th>1</th>\n",
              "      <td>Bangalore</td>\n",
              "      <td>58</td>\n",
              "      <td>32</td>\n",
              "    </tr>\n",
              "    <tr>\n",
              "      <th>2</th>\n",
              "      <td>Belgaum</td>\n",
              "      <td>7</td>\n",
              "      <td>5</td>\n",
              "    </tr>\n",
              "    <tr>\n",
              "      <th>3</th>\n",
              "      <td>Bellary</td>\n",
              "      <td>6</td>\n",
              "      <td>5</td>\n",
              "    </tr>\n",
              "    <tr>\n",
              "      <th>4</th>\n",
              "      <td>Bidar</td>\n",
              "      <td>10</td>\n",
              "      <td>5</td>\n",
              "    </tr>\n",
              "    <tr>\n",
              "      <th>5</th>\n",
              "      <td>Bijapur</td>\n",
              "      <td>0</td>\n",
              "      <td>5</td>\n",
              "    </tr>\n",
              "    <tr>\n",
              "      <th>6</th>\n",
              "      <td>Chamarajanagar</td>\n",
              "      <td>0</td>\n",
              "      <td>5</td>\n",
              "    </tr>\n",
              "    <tr>\n",
              "      <th>7</th>\n",
              "      <td>Chikkaballapura</td>\n",
              "      <td>10</td>\n",
              "      <td>5</td>\n",
              "    </tr>\n",
              "    <tr>\n",
              "      <th>8</th>\n",
              "      <td>Chikmagalur</td>\n",
              "      <td>0</td>\n",
              "      <td>5</td>\n",
              "    </tr>\n",
              "    <tr>\n",
              "      <th>9</th>\n",
              "      <td>Chitradurga</td>\n",
              "      <td>1</td>\n",
              "      <td>5</td>\n",
              "    </tr>\n",
              "    <tr>\n",
              "      <th>10</th>\n",
              "      <td>Dakshina Kannada</td>\n",
              "      <td>10</td>\n",
              "      <td>7</td>\n",
              "    </tr>\n",
              "    <tr>\n",
              "      <th>11</th>\n",
              "      <td>Davanagere</td>\n",
              "      <td>2</td>\n",
              "      <td>5</td>\n",
              "    </tr>\n",
              "    <tr>\n",
              "      <th>12</th>\n",
              "      <td>Dharwad</td>\n",
              "      <td>1</td>\n",
              "      <td>5</td>\n",
              "    </tr>\n",
              "    <tr>\n",
              "      <th>13</th>\n",
              "      <td>Gadag</td>\n",
              "      <td>1</td>\n",
              "      <td>5</td>\n",
              "    </tr>\n",
              "    <tr>\n",
              "      <th>14</th>\n",
              "      <td>Gulbarga</td>\n",
              "      <td>7</td>\n",
              "      <td>5</td>\n",
              "    </tr>\n",
              "    <tr>\n",
              "      <th>15</th>\n",
              "      <td>Hassan</td>\n",
              "      <td>0</td>\n",
              "      <td>5</td>\n",
              "    </tr>\n",
              "    <tr>\n",
              "      <th>16</th>\n",
              "      <td>Haveri</td>\n",
              "      <td>0</td>\n",
              "      <td>5</td>\n",
              "    </tr>\n",
              "    <tr>\n",
              "      <th>17</th>\n",
              "      <td>Kodagu</td>\n",
              "      <td>1</td>\n",
              "      <td>5</td>\n",
              "    </tr>\n",
              "    <tr>\n",
              "      <th>18</th>\n",
              "      <td>Kolar</td>\n",
              "      <td>0</td>\n",
              "      <td>5</td>\n",
              "    </tr>\n",
              "    <tr>\n",
              "      <th>19</th>\n",
              "      <td>Koppal</td>\n",
              "      <td>0</td>\n",
              "      <td>5</td>\n",
              "    </tr>\n",
              "    <tr>\n",
              "      <th>20</th>\n",
              "      <td>Mandya</td>\n",
              "      <td>3</td>\n",
              "      <td>5</td>\n",
              "    </tr>\n",
              "    <tr>\n",
              "      <th>21</th>\n",
              "      <td>Mysore</td>\n",
              "      <td>35</td>\n",
              "      <td>5</td>\n",
              "    </tr>\n",
              "    <tr>\n",
              "      <th>22</th>\n",
              "      <td>Raichur</td>\n",
              "      <td>0</td>\n",
              "      <td>5</td>\n",
              "    </tr>\n",
              "    <tr>\n",
              "      <th>23</th>\n",
              "      <td>Ramanagara</td>\n",
              "      <td>0</td>\n",
              "      <td>5</td>\n",
              "    </tr>\n",
              "    <tr>\n",
              "      <th>24</th>\n",
              "      <td>Shimoga</td>\n",
              "      <td>0</td>\n",
              "      <td>5</td>\n",
              "    </tr>\n",
              "    <tr>\n",
              "      <th>25</th>\n",
              "      <td>Tumkur</td>\n",
              "      <td>2</td>\n",
              "      <td>5</td>\n",
              "    </tr>\n",
              "    <tr>\n",
              "      <th>26</th>\n",
              "      <td>Udupi</td>\n",
              "      <td>4</td>\n",
              "      <td>6</td>\n",
              "    </tr>\n",
              "    <tr>\n",
              "      <th>27</th>\n",
              "      <td>Uttara Kannada</td>\n",
              "      <td>9</td>\n",
              "      <td>5</td>\n",
              "    </tr>\n",
              "    <tr>\n",
              "      <th>28</th>\n",
              "      <td>Vijayapura</td>\n",
              "      <td>0</td>\n",
              "      <td>5</td>\n",
              "    </tr>\n",
              "    <tr>\n",
              "      <th>29</th>\n",
              "      <td>Yadgir</td>\n",
              "      <td>0</td>\n",
              "      <td>5</td>\n",
              "    </tr>\n",
              "    <tr>\n",
              "      <th>30</th>\n",
              "      <td>Bangalore Rural</td>\n",
              "      <td>3</td>\n",
              "      <td>5</td>\n",
              "    </tr>\n",
              "  </tbody>\n",
              "</table>\n",
              "</div>"
            ],
            "text/plain": [
              "            District  CaseCounts  day14\n",
              "0           Bagalkot           5      5\n",
              "1          Bangalore          58     32\n",
              "2            Belgaum           7      5\n",
              "3            Bellary           6      5\n",
              "4              Bidar          10      5\n",
              "5            Bijapur           0      5\n",
              "6     Chamarajanagar           0      5\n",
              "7    Chikkaballapura          10      5\n",
              "8        Chikmagalur           0      5\n",
              "9        Chitradurga           1      5\n",
              "10  Dakshina Kannada          10      7\n",
              "11        Davanagere           2      5\n",
              "12           Dharwad           1      5\n",
              "13             Gadag           1      5\n",
              "14          Gulbarga           7      5\n",
              "15            Hassan           0      5\n",
              "16            Haveri           0      5\n",
              "17            Kodagu           1      5\n",
              "18             Kolar           0      5\n",
              "19            Koppal           0      5\n",
              "20            Mandya           3      5\n",
              "21            Mysore          35      5\n",
              "22           Raichur           0      5\n",
              "23        Ramanagara           0      5\n",
              "24           Shimoga           0      5\n",
              "25            Tumkur           2      5\n",
              "26             Udupi           4      6\n",
              "27    Uttara Kannada           9      5\n",
              "28        Vijayapura           0      5\n",
              "29            Yadgir           0      5\n",
              "30   Bangalore Rural           3      5"
            ]
          },
          "metadata": {
            "tags": []
          },
          "execution_count": 30
        }
      ]
    },
    {
      "cell_type": "code",
      "metadata": {
        "id": "7wPusXHM4ZxO",
        "colab_type": "code",
        "colab": {}
      },
      "source": [
        ""
      ],
      "execution_count": 0,
      "outputs": []
    }
  ]
}