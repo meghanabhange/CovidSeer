{
  "nbformat": 4,
  "nbformat_minor": 0,
  "metadata": {
    "colab": {
      "name": "AssamDistrictAnalysis.ipynb",
      "provenance": [],
      "private_outputs": true,
      "collapsed_sections": [],
      "authorship_tag": "ABX9TyORjBajSXRnhB7LEc/84rhz"
    },
    "kernelspec": {
      "name": "python3",
      "display_name": "Python 3"
    }
  },
  "cells": [
    {
      "cell_type": "markdown",
      "metadata": {
        "id": "uC5MSX9GMghl",
        "colab_type": "text"
      },
      "source": [
        "# Assam District Analysis\n",
        "> District Analysis for Assam using seirsplus\n",
        "\n",
        "- toc: true \n",
        "- badges: false\n",
        "- comments: true\n",
        "- metadata_key1: metadata_value1\n",
        "- metadata_key2: metadata_value2"
      ]
    },
    {
      "cell_type": "code",
      "metadata": {
        "id": "-LA54e_tLljG",
        "colab_type": "code",
        "colab": {}
      },
      "source": [
        "# hide\n",
        "# !pip install seirsplus\n",
        "# !pip install geopandas\n",
        "# !pip install geopatra\n",
        "# !pip install -U plotly\n",
        "\n",
        "import warnings\n",
        "warnings.filterwarnings('ignore')\n",
        "\n",
        "import contextlib\n",
        "import io\n",
        "import json\n",
        "import random\n",
        "import sys\n",
        "from pathlib import Path\n",
        "from typing import List, Union\n",
        "import pandas as pd\n",
        "from branca.colormap import linear\n",
        "from IPython.display import display\n",
        "from IPython.utils import io\n",
        "from ipywidgets import (HTML, FloatLogSlider, FloatSlider, GridBox, HBox,\n",
        "                        IntSlider, Label, Layout, Output, SelectionSlider,\n",
        "                        VBox, interactive)\n",
        "from seirsplus.models import *"
      ],
      "execution_count": 0,
      "outputs": []
    },
    {
      "cell_type": "code",
      "metadata": {
        "id": "zTpp2sNPNlWo",
        "colab_type": "code",
        "colab": {}
      },
      "source": [
        "assam_df = pd.read_csv(\"AssamDistrictInfo.csv\")"
      ],
      "execution_count": 0,
      "outputs": []
    },
    {
      "cell_type": "code",
      "metadata": {
        "id": "WiZBVM5tMhna",
        "colab_type": "code",
        "colab": {}
      },
      "source": [
        "# hide\n",
        "def get_infections(\n",
        "    initI: int = 100, initN: int = 10 ** 5, days_N: int = 21, beta: float = 2.4\n",
        ") -> List[int]:\n",
        "    model = SEIRSModel(\n",
        "        beta=beta,\n",
        "        sigma=1 / 5.2,\n",
        "        gamma=1 / 12.39,\n",
        "        initN=initN,\n",
        "        initI=initI,\n",
        "        beta_D=0.000,\n",
        "        mu_D=0.02,\n",
        "        #         sigma_D=1 / 4.0,\n",
        "        #         gamma_D=1 / 9.0,\n",
        "        theta_E=0.0002,\n",
        "        theta_I=0.002,\n",
        "        psi_E=0.2,\n",
        "        psi_I=1.0,\n",
        "    )\n",
        "    with io.capture_output() as captured:\n",
        "        model.run(T=days_N)\n",
        "    S = model.numS  # time series of S counts\n",
        "    E = model.numE  # time series of E counts\n",
        "    I = model.numI  # time series of I counts\n",
        "    D_E = model.numD_E  # time series of D_E counts\n",
        "    D_I = model.numD_I  # time series of D_I counts\n",
        "    R = model.numR  # time series of R counts\n",
        "    F = model.numF  # time series of F counts\n",
        "    t = model.tseries  # time values corresponding to the above time series\n",
        "    return {\"detected_exposed\": D_E, \"detected_infected\": D_I, \"model\": model, \"t\": t}"
      ],
      "execution_count": 0,
      "outputs": []
    },
    {
      "cell_type": "code",
      "metadata": {
        "id": "qzPVXqzlNPIl",
        "colab_type": "code",
        "colab": {}
      },
      "source": [
        "# hide\n",
        "def get_risk_estimates(assam_estimated_df: pd.DataFrame, beta: float) -> Union[List, List]:\n",
        "    days_N = 21\n",
        "    atrisk_day14, atrisk_day21 = [], []\n",
        "    for row in assam_estimated_df[[\"initI\", \"initN\", \"district\"]].iterrows():\n",
        "        initI, initN, district = row[1][0], int(row[1][1]), row[1][2]\n",
        "        #     print(type(initI), type(initN))\n",
        "        infection_results = get_infections(\n",
        "            initI=initI, initN=initN, days_N=days_N, beta=beta\n",
        "        )\n",
        "        detected_infected = infection_results[\"detected_infected\"]\n",
        "        day14 = int(14 * len(detected_infected) / days_N)\n",
        "        case_count_day14 = int(infection_results[\"detected_infected\"][day14])\n",
        "        case_count_day21 = int(infection_results[\"detected_infected\"][-1])\n",
        "        atrisk_day14.append(case_count_day14)\n",
        "        atrisk_day21.append(case_count_day21)\n",
        "    return atrisk_day14, atrisk_day21, infection_results"
      ],
      "execution_count": 0,
      "outputs": []
    },
    {
      "cell_type": "code",
      "metadata": {
        "id": "iWmcNwQjOZ8X",
        "colab_type": "code",
        "colab": {}
      },
      "source": [
        "#hide_input\n",
        "#@title Assumptions\n",
        "percent_travellers_infected = 1e-1 #@param {type:\"slider\", min:0, max:1e-1, step:0.001}\n",
        "unknown_to_known_travelers = 50 #@param {type:\"slider\", min:5, max:50, step:1}\n",
        "beta = 5 #@param {type:\"slider\", min:0.5, max:5.0, step:0.1}"
      ],
      "execution_count": 0,
      "outputs": []
    },
    {
      "cell_type": "code",
      "metadata": {
        "id": "gc1q4yhBPBgW",
        "colab_type": "code",
        "colab": {}
      },
      "source": [
        "#hide\n",
        "def estimate(percent_travellers_infected: float, \n",
        "            unknown_to_known_travelers:int,\n",
        "            beta:float, \n",
        "            assam_df:pd.DataFrame):\n",
        "    \n",
        "    assam_estimated_df = assam_df.copy()\n",
        "    assam_estimated_df[\"initI\"] = (\n",
        "        percent_travellers_infected * unknown_to_known_travelers * assam_df[\"Inflow\"]\n",
        "    ).astype(int)\n",
        "    assam_estimated_df[\"initN\"] = assam_estimated_df[\"Population\"].astype(int)\n",
        "    \n",
        "    assam_estimated_df[f\"day14\"] , assam_estimated_df[f\"day21\"], infection_results = get_risk_estimates(assam_estimated_df, beta=beta)\n",
        "    return assam_estimated_df"
      ],
      "execution_count": 0,
      "outputs": []
    },
    {
      "cell_type": "code",
      "metadata": {
        "id": "AFASWm-9Pfid",
        "colab_type": "code",
        "colab": {}
      },
      "source": [
        "#hide\n",
        "assam_estimated_df = estimate(percent_travellers_infected, \n",
        "              unknown_to_known_travelers,\n",
        "              beta, \n",
        "              assam_df)"
      ],
      "execution_count": 0,
      "outputs": []
    },
    {
      "cell_type": "code",
      "metadata": {
        "id": "bAyvenbMRhGT",
        "colab_type": "code",
        "colab": {}
      },
      "source": [
        "# hide\n",
        "assam_estimated_df[\"AtRisk\"] = assam_estimated_df[\"day21\"]"
      ],
      "execution_count": 0,
      "outputs": []
    },
    {
      "cell_type": "code",
      "metadata": {
        "id": "bJ-DvRNpP3b6",
        "colab_type": "code",
        "colab": {}
      },
      "source": [
        "# hide\n",
        "assam_estimated_df[\"text\"] = (\n",
        "    \"District : \"\n",
        "    + assam_estimated_df[\"district\"].astype(str)\n",
        "    + \"<br>\"\n",
        "    + \"Population: \"\n",
        "    + assam_estimated_df[\"Population\"].astype(str)\n",
        "    + \"<br>\"\n",
        "    + \"Day14 Exposed Estimate : \"\n",
        "    + assam_estimated_df[\"day14\"].astype(str)\n",
        "    + \"<br>\"\n",
        "    + \"Day21 Exposed Estimate : \"\n",
        "    + assam_estimated_df[\"day21\"].astype(str)\n",
        "    + \"<br>\"\n",
        "    + \"Travellers: \"\n",
        "    + assam_estimated_df[\"Inflow\"].astype(str)\n",
        "    \n",
        ")\n",
        "\n",
        "assam_estimated_df.head()"
      ],
      "execution_count": 0,
      "outputs": []
    },
    {
      "cell_type": "code",
      "metadata": {
        "id": "2cULXPXXROyw",
        "colab_type": "code",
        "colab": {}
      },
      "source": [
        "# hide_input\n",
        "assam_estimated_df[[\"district\", \"AtRisk\"]]"
      ],
      "execution_count": 0,
      "outputs": []
    },
    {
      "cell_type": "code",
      "metadata": {
        "id": "XeiNvqZ1Rb4p",
        "colab_type": "code",
        "colab": {}
      },
      "source": [
        "# hide\n",
        "from urllib.request import urlopen\n",
        "import json\n",
        "\n",
        "with urlopen(\n",
        "    \"https://raw.githubusercontent.com/NirantK/coronaIndia/voila/voila_notebook/Assam/assam.json\"\n",
        ") as response:\n",
        "    KA = json.load(response)"
      ],
      "execution_count": 0,
      "outputs": []
    },
    {
      "cell_type": "code",
      "metadata": {
        "id": "lemBO6VCRl6O",
        "colab_type": "code",
        "colab": {}
      },
      "source": [
        "# hide\n",
        "import plotly.graph_objects as go\n",
        "\n",
        "\n",
        "fig = go.Figure(\n",
        "    data=go.Choropleth(\n",
        "        locations=assam_estimated_df[\"district\"],\n",
        "        z=assam_estimated_df[\"day21\"].astype(float),\n",
        "        colorscale=\"Blues\",\n",
        "        autocolorscale=False,\n",
        "        reversescale=False,\n",
        "        marker_line_color=\"darkgray\",\n",
        "        marker_line_width=0.5,\n",
        "        geojson=KA,\n",
        "        featureidkey=\"properties.district\",\n",
        "        colorbar_title=\"At Risk\",\n",
        "        text=assam_estimated_df[\"text\"],\n",
        "        hoverinfo=\"text\"\n",
        "    )\n",
        ")\n",
        "fig.update_geos(fitbounds=\"locations\", visible=False)\n",
        "fig.update_layout(title_text=\"District Analysis Assam: Map\")"
      ],
      "execution_count": 0,
      "outputs": []
    },
    {
      "cell_type": "code",
      "metadata": {
        "id": "O2KvIX8tRoXK",
        "colab_type": "code",
        "colab": {}
      },
      "source": [
        "# hide_input\n",
        "fig.show()"
      ],
      "execution_count": 0,
      "outputs": []
    },
    {
      "cell_type": "markdown",
      "metadata": {
        "id": "yLhcO1aAocJm",
        "colab_type": "text"
      },
      "source": [
        "# Infections Plot"
      ]
    },
    {
      "cell_type": "code",
      "metadata": {
        "id": "lrHBHakwmUJA",
        "colab_type": "code",
        "colab": {}
      },
      "source": [
        "# hide_input\n",
        "beta = 2.4\n",
        "_, _, infection_results = get_risk_estimates(assam_estimated_df, beta=beta)\n",
        "infection_results[\"model\"].figure_infections(\n",
        "            plot_percentages=False,\n",
        "            plot_D_E=False,\n",
        "            title = \"Plausible Forecast\",\n",
        "#             title=f\"Plausible Scenario for {district}. Population > {initN / 10**6:.2f} Million\",\n",
        "            side_title=\"This model is intended to help make fast decisions, not predict the future.\",\n",
        "            plot_E=False,\n",
        "            plot_I=False,\n",
        "            color_D_I=\"tab:blue\",\n",
        ")"
      ],
      "execution_count": 0,
      "outputs": []
    },
    {
      "cell_type": "code",
      "metadata": {
        "id": "7KtrV05ARy9W",
        "colab_type": "code",
        "colab": {}
      },
      "source": [
        ""
      ],
      "execution_count": 0,
      "outputs": []
    }
  ]
}