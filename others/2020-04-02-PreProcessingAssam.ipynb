{
 "cells": [
  {
   "cell_type": "code",
   "execution_count": 1,
   "metadata": {
    "colab": {},
    "colab_type": "code",
    "id": "Pi1eQpFJbo4U"
   },
   "outputs": [],
   "source": [
    "# hide\n",
    "# !pip install seirsplus\n",
    "# !pip install geopandas\n",
    "# !pip install geopatra\n",
    "# !pip install -U plotly\n",
    "# !pip install xlrd\n",
    "import contextlib\n",
    "import io\n",
    "import json\n",
    "import random\n",
    "import sys\n",
    "import warnings\n",
    "from pathlib import Path\n",
    "from typing import List, Union\n",
    "\n",
    "import folium\n",
    "import geopandas as gpd\n",
    "import geopatra\n",
    "import networkx\n",
    "import pandas as pd\n",
    "from branca.colormap import linear\n",
    "from IPython.display import display\n",
    "from IPython.utils import io\n",
    "from ipywidgets import (\n",
    "    HTML,\n",
    "    FloatLogSlider,\n",
    "    FloatSlider,\n",
    "    GridBox,\n",
    "    HBox,\n",
    "    IntSlider,\n",
    "    Label,\n",
    "    Layout,\n",
    "    Output,\n",
    "    SelectionSlider,\n",
    "    VBox,\n",
    "    interactive,\n",
    ")\n",
    "from seirsplus.models import *\n",
    "\n",
    "warnings.filterwarnings(\"ignore\")"
   ]
  },
  {
   "cell_type": "code",
   "execution_count": 2,
   "metadata": {
    "colab": {},
    "colab_type": "code",
    "id": "r0igYZLjbo4a"
   },
   "outputs": [],
   "source": [
    "# hide\n",
    "assam_travel_history = Path(\"AssamTravelHistory.xlsx\").resolve()\n",
    "xl = pd.ExcelFile(assam_travel_history)"
   ]
  },
  {
   "cell_type": "code",
   "execution_count": 3,
   "metadata": {
    "colab": {},
    "colab_type": "code",
    "id": "eFc9efsjbo4f"
   },
   "outputs": [],
   "source": [
    "# hide\n",
    "def read_assam_excel_to_df(filename: str) -> pd.DataFrame:\n",
    "    xl = pd.ExcelFile(filename)\n",
    "    df_list = []\n",
    "    for sheet_name in xl.sheet_names:\n",
    "        district_df = xl.parse(sheet_name)\n",
    "        district_df[\"district\"] = sheet_name\n",
    "        district_df.drop(columns=[\"S.No.\"], inplace=True)\n",
    "        df_list.append(district_df)\n",
    "    return pd.concat(df_list, sort=False)\n",
    "\n",
    "\n",
    "df = read_assam_excel_to_df(assam_travel_history)"
   ]
  },
  {
   "cell_type": "code",
   "execution_count": 4,
   "metadata": {
    "colab": {},
    "colab_type": "code",
    "id": "NhQyhdSGbo4i"
   },
   "outputs": [],
   "source": [
    "# hide\n",
    "df[\"DateOfArrival\"] = pd.to_datetime(df[\"Date of arrival\"])\n",
    "df[\"DateOfReturn\"] = pd.to_datetime(df[\"Date of Receipt\"])\n",
    "df.drop(columns=[\"Date of arrival\", \"Date of Receipt\"], inplace=True)"
   ]
  },
  {
   "cell_type": "code",
   "execution_count": 5,
   "metadata": {
    "colab": {},
    "colab_type": "code",
    "id": "HAydw6rvbo4l"
   },
   "outputs": [],
   "source": [
    "# hide\n",
    "df_copy = df\n",
    "df_copy[\"Inflow\"] = 1\n",
    "assam_traveller_count_df = df_copy.groupby(\"district\").agg({\"Inflow\": \"sum\"})\n",
    "assam_traveller_count_df.reset_index(inplace=True)"
   ]
  },
  {
   "cell_type": "code",
   "execution_count": 6,
   "metadata": {
    "colab": {},
    "colab_type": "code",
    "id": "3kyXYiVSbo4p"
   },
   "outputs": [],
   "source": [
    "# hide\n",
    "def clean_district_names(dname: str):\n",
    "    input_to_output_mapping = {\n",
    "        \"Cacher\": \"Cachar\",\n",
    "        \"Kamrup_M\": \"Kamrup Metropolitan\",\n",
    "        \"Kamrup_R\": \"Kamrup\",\n",
    "        \"KarbiAnlong\": \"Karbi Anglong\",\n",
    "        \"Baksha\": \"Baksa\",\n",
    "    }\n",
    "    return input_to_output_mapping.get(dname, dname)"
   ]
  },
  {
   "cell_type": "code",
   "execution_count": 7,
   "metadata": {
    "colab": {},
    "colab_type": "code",
    "id": "emaBa1iwbo4t"
   },
   "outputs": [],
   "source": [
    "# hide\n",
    "assam_traveller_count_df[\"district\"] = assam_traveller_count_df.district.apply(\n",
    "    clean_district_names\n",
    ")"
   ]
  },
  {
   "cell_type": "code",
   "execution_count": 8,
   "metadata": {
    "colab": {},
    "colab_type": "code",
    "id": "eoMeoa7dbo4x",
    "scrolled": false
   },
   "outputs": [],
   "source": [
    "# hide\n",
    "assam_pop_web_raw = pd.read_html(\n",
    "    \"https://www.census2011.co.in/census/state/districtlist/assam.html\"\n",
    ")\n",
    "assam_pop_web_raw = assam_pop_web_raw[0][[\"District\", \"Population\"]]\n",
    "assam_pop_df = assam_pop_web_raw[\n",
    "    ~(assam_pop_web_raw[\"District\"].apply(lambda x: len(x)) > 21)\n",
    "]"
   ]
  },
  {
   "cell_type": "code",
   "execution_count": 9,
   "metadata": {
    "colab": {},
    "colab_type": "code",
    "id": "UlFjC8uCbo41"
   },
   "outputs": [],
   "source": [
    "# hide\n",
    "assam_pop_df_rename = assam_pop_df.rename(columns={\"District\": \"district\"})"
   ]
  },
  {
   "cell_type": "code",
   "execution_count": 10,
   "metadata": {
    "colab": {},
    "colab_type": "code",
    "id": "4DYJTLZSbo44"
   },
   "outputs": [],
   "source": [
    "# hide\n",
    "assam_df = pd.merge(\n",
    "    assam_pop_df_rename, assam_traveller_count_df, on=\"district\", how=\"left\"\n",
    ")\n",
    "assam_df.to_csv(\"AssamDistrictInfo.csv\", index=False)"
   ]
  }
 ],
 "metadata": {
  "colab": {
   "name": "DistrictAnalysisAssam.ipynb",
   "provenance": []
  },
  "kernelspec": {
   "display_name": "Python 3",
   "language": "python",
   "name": "python3"
  },
  "language_info": {
   "codemirror_mode": {
    "name": "ipython",
    "version": 3
   },
   "file_extension": ".py",
   "mimetype": "text/x-python",
   "name": "python",
   "nbconvert_exporter": "python",
   "pygments_lexer": "ipython3",
   "version": "3.7.3"
  }
 },
 "nbformat": 4,
 "nbformat_minor": 1
}
